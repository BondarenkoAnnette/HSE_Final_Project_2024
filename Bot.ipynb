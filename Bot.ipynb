{
  "cells": [
    {
      "cell_type": "code",
      "execution_count": null,
      "metadata": {
        "colab": {
          "base_uri": "https://localhost:8080/"
        },
        "id": "oLDarhv4zTC9",
        "outputId": "02b588f0-9184-40b9-e163-ed0de3778361"
      },
      "outputs": [
        {
          "output_type": "stream",
          "name": "stdout",
          "text": [
            "Collecting pytelegrambotapi\n",
            "  Downloading pytelegrambotapi-4.20.0-py3-none-any.whl (248 kB)\n",
            "\u001b[2K     \u001b[90m━━━━━━━━━━━━━━━━━━━━━━━━━━━━━━━━━━━━━━━━\u001b[0m \u001b[32m248.1/248.1 kB\u001b[0m \u001b[31m4.3 MB/s\u001b[0m eta \u001b[36m0:00:00\u001b[0m\n",
            "\u001b[?25hRequirement already satisfied: requests in /usr/local/lib/python3.10/dist-packages (from pytelegrambotapi) (2.31.0)\n",
            "Requirement already satisfied: charset-normalizer<4,>=2 in /usr/local/lib/python3.10/dist-packages (from requests->pytelegrambotapi) (3.3.2)\n",
            "Requirement already satisfied: idna<4,>=2.5 in /usr/local/lib/python3.10/dist-packages (from requests->pytelegrambotapi) (3.7)\n",
            "Requirement already satisfied: urllib3<3,>=1.21.1 in /usr/local/lib/python3.10/dist-packages (from requests->pytelegrambotapi) (2.0.7)\n",
            "Requirement already satisfied: certifi>=2017.4.17 in /usr/local/lib/python3.10/dist-packages (from requests->pytelegrambotapi) (2024.6.2)\n",
            "Installing collected packages: pytelegrambotapi\n",
            "Successfully installed pytelegrambotapi-4.20.0\n"
          ]
        }
      ],
      "source": [
        "!pip install pytelegrambotapi"
      ]
    },
    {
      "cell_type": "code",
      "execution_count": null,
      "metadata": {
        "id": "lu0qni_aL-Gz"
      },
      "outputs": [],
      "source": [
        "import telebot\n",
        "from telebot import types"
      ]
    },
    {
      "cell_type": "code",
      "execution_count": null,
      "metadata": {
        "colab": {
          "base_uri": "https://localhost:8080/"
        },
        "id": "sMDln4-VBxv9",
        "outputId": "f12b5d0a-882e-467d-f48b-e98e53f5a362"
      },
      "outputs": [
        {
          "output_type": "stream",
          "name": "stderr",
          "text": [
            "[nltk_data] Downloading package punkt to /root/nltk_data...\n",
            "[nltk_data]   Unzipping tokenizers/punkt.zip.\n",
            "[nltk_data] Downloading package universal_tagset to /root/nltk_data...\n",
            "[nltk_data]   Unzipping taggers/universal_tagset.zip.\n",
            "[nltk_data] Downloading package averaged_perceptron_tagger to\n",
            "[nltk_data]     /root/nltk_data...\n",
            "[nltk_data]   Unzipping taggers/averaged_perceptron_tagger.zip.\n"
          ]
        }
      ],
      "source": [
        "import pandas as pd\n",
        "\n",
        "import re\n",
        "\n",
        "import nltk\n",
        "nltk.download('punkt')\n",
        "from nltk.tokenize import word_tokenize\n",
        "nltk.download('universal_tagset')\n",
        "nltk.download('averaged_perceptron_tagger')\n",
        "from nltk.corpus import stopwords\n",
        "\n",
        "import spacy\n",
        "nlp = spacy.load(\"en_core_web_sm\")\n",
        "lemmatizer = nlp.get_pipe(\"lemmatizer\")\n",
        "\n",
        "import random"
      ]
    },
    {
      "cell_type": "code",
      "execution_count": null,
      "metadata": {
        "id": "AA7iE2CBS3xS"
      },
      "outputs": [],
      "source": [
        "#переменные-стартовые сообщения бота\n",
        "text1 = 'This bot can assist in providing English learners with texts on various topics along with grammar exercises'\n",
        "text2 = 'If you want to get a random article on an interesting subject, select: Random Article'\n",
        "text3 = 'To get an exercise select: Practise'\n",
        "text4 = 'If you wish, you can see the original article'\n",
        "text5 = 'I don\\'t understand you, type: Help'"
      ]
    },
    {
      "cell_type": "code",
      "execution_count": null,
      "metadata": {
        "id": "PwdEChw-Ep1M"
      },
      "outputs": [],
      "source": [
        "#нужные датафреймы\n",
        "education_df = pd.read_csv(r\"https://raw.githubusercontent.com/BondarenkoAnnette/HSE_CL_Project_2024/main/data/education.csv\")\n",
        "education = education_df[\"documents\"].tolist()\n",
        "\n",
        "fashion_df = pd.read_csv(r\"https://raw.githubusercontent.com/BondarenkoAnnette/HSE_CL_Project_2024/main/data/fashion.csv\")\n",
        "fashion = fashion_df[\"documents\"].tolist()\n",
        "\n",
        "food_df = pd.read_csv(r\"https://raw.githubusercontent.com/BondarenkoAnnette/HSE_CL_Project_2024/main/data/food.csv\")\n",
        "food = food_df[\"documents\"].tolist()\n",
        "\n",
        "jobs_df = pd.read_csv(r\"https://raw.githubusercontent.com/BondarenkoAnnette/HSE_CL_Project_2024/main/data/jobs.csv\")\n",
        "jobs = jobs_df[\"documents\"].tolist()\n",
        "\n",
        "health_df = pd.read_csv(r\"https://raw.githubusercontent.com/BondarenkoAnnette/HSE_CL_Project_2024/main/data/health.csv\")\n",
        "health = health_df[\"documents\"].tolist()\n",
        "\n",
        "sport_df = pd.read_csv(r\"https://raw.githubusercontent.com/BondarenkoAnnette/HSE_CL_Project_2024/main/data/sport.csv\")\n",
        "sport = sport_df[\"documents\"].tolist()\n",
        "\n",
        "films_df = pd.read_csv(r\"https://raw.githubusercontent.com/BondarenkoAnnette/HSE_CL_Project_2024/main/data/films.csv\")\n",
        "films = films_df[\"documents\"].tolist()\n",
        "\n",
        "environment_df = pd.read_csv(r\"https://raw.githubusercontent.com/BondarenkoAnnette/HSE_CL_Project_2024/main/data/environment.csv\")\n",
        "environment = environment_df[\"documents\"].tolist()\n",
        "\n",
        "technology_df = pd.read_csv(r\"https://raw.githubusercontent.com/BondarenkoAnnette/HSE_CL_Project_2024/main/data/technology.csv\")\n",
        "technology = technology_df[\"documents\"].tolist()\n",
        "\n",
        "tourism_df = pd.read_csv(r\"https://raw.githubusercontent.com/BondarenkoAnnette/HSE_CL_Project_2024/main/data/tourism.csv\")\n",
        "tourism = tourism_df[\"documents\"].tolist()\n",
        "\n",
        "culture_df = pd.read_csv(r\"https://raw.githubusercontent.com/BondarenkoAnnette/HSE_CL_Project_2024/main/data/culture.csv\")\n",
        "culture = culture_df[\"documents\"].tolist()\n",
        "\n",
        "music_df = pd.read_csv(r\"https://raw.githubusercontent.com/BondarenkoAnnette/HSE_CL_Project_2024/main/data/music.csv\")\n",
        "music = music_df[\"documents\"].tolist()\n",
        "\n",
        "politics_df = pd.read_csv(r\"https://raw.githubusercontent.com/BondarenkoAnnette/HSE_CL_Project_2024/main/data/politics.csv\")\n",
        "politics = politics_df[\"documents\"].tolist()"
      ]
    },
    {
      "cell_type": "code",
      "execution_count": null,
      "metadata": {
        "id": "Ukm373IgEvKV"
      },
      "outputs": [],
      "source": [
        "topics = [politics, music, films, sport, culture, technology, environment, health, jobs, food, fashion, education]\n",
        "\n",
        "strings = [\"politics\", \"music\", \"films\", \"sport\", \"culture\", \"technology\", \"environment\", \"health\", \"jobs\", \"food\", \"fashion\", \"education\"]"
      ]
    },
    {
      "cell_type": "code",
      "execution_count": null,
      "metadata": {
        "id": "QavJqbHcC5kc"
      },
      "outputs": [],
      "source": [
        "#функция для создания упражнения\n",
        "def exercise(text):\n",
        "\n",
        "    doc = nlp(text)\n",
        "    tags = [\"VBZ\", \"VBN\", \"VBD\", \"VBG\"]\n",
        "    verbs = []\n",
        "    for token in doc:\n",
        "      if (token.pos_ == \"VERB\") & (token.tag_ in tags):\n",
        "        verbs.append(token)\n",
        "\n",
        "    new_text = text\n",
        "    for verb in verbs:\n",
        "      reg_exp = fr\"\\s{verb}\\s\"\n",
        "      reg_exp_2 = fr\" [{verb.lemma_.upper()}] \"\n",
        "      new_text = re.sub(reg_exp, reg_exp_2, new_text)\n",
        "\n",
        "    return(new_text)"
      ]
    },
    {
      "cell_type": "code",
      "execution_count": null,
      "metadata": {
        "id": "gQDniYN3EwbA"
      },
      "outputs": [],
      "source": [
        "#функции бота\n",
        "def checking(message):\n",
        "\n",
        "    for i in range(0,12):\n",
        "        if message.text.strip().lower() == strings[i]:\n",
        "            topic_list = topics[i]\n",
        "            random_article = random.choice(topic_list)\n",
        "            if len(random_article) > 4095:\n",
        "              for x in range(0, len(random_article), 4095):\n",
        "                bot.send_message(message.chat.id, text=random_article[x:x+4095])\n",
        "            else:\n",
        "              bot.send_message(message.chat.id, text=random_article)\n",
        "\n",
        "\n",
        "def checking_2(message):\n",
        "\n",
        "    def next_question(message):\n",
        "        if message.text.strip().lower() == \"yes\":\n",
        "          if len(random_article) > 4095:\n",
        "              for x in range(0, len(random_article), 4095):\n",
        "                bot.send_message(message.chat.id, text=random_article[x:x+4095])\n",
        "          else:\n",
        "              bot.send_message(message.chat.id, text=random_article)\n",
        "        else:\n",
        "          bot.send_message(message.chat.id, \"Okay, have a good practice!\")\n",
        "\n",
        "    for i in range(0,12):\n",
        "        if message.text.strip().lower() == strings[i]:\n",
        "            topic_list = topics[i]\n",
        "            random_article = random.choice(topic_list)\n",
        "            ex = exercise(random_article)\n",
        "            bot.send_message(message.chat.id, \"Put the verbs in brackets in the correct form:\")\n",
        "            if len(ex) > 4095:\n",
        "              for x in range(0, len(ex), 4095):\n",
        "                bot.send_message(message.chat.id, text=ex[x:x+4095])\n",
        "            else:\n",
        "              bot.send_message(message.chat.id, text=ex)\n",
        "\n",
        "            bot.send_message(message.chat.id, \"Do you want to see the original article?\")\n",
        "            bot.register_next_step_handler(message, next_question)"
      ]
    },
    {
      "cell_type": "code",
      "execution_count": null,
      "metadata": {
        "id": "Rw44Yi33IhfE"
      },
      "outputs": [],
      "source": [
        "#сам бот\n",
        "bot = telebot.TeleBot(your_bot)\n",
        "\n",
        "@bot.message_handler(commands=[\"start\"])\n",
        "def start(message):\n",
        "  markup=types.ReplyKeyboardMarkup(resize_keyboard=True)\n",
        "  item1=types.KeyboardButton(\"Help\")\n",
        "  item2=types.KeyboardButton(\"Source\")\n",
        "  item3=types.KeyboardButton(\"Random article\")\n",
        "  item4=types.KeyboardButton(\"Practise\")\n",
        "  markup.row(item1)\n",
        "  markup.row(item3, item4)\n",
        "  markup.row(item2)\n",
        "  bot.send_message(message.chat.id, 'Hello! This bot can help English learners practise grammar with authentic news articles. Let us see how it works. Select Help for instructions :)', reply_markup=markup)\n",
        "\n",
        "@bot.message_handler(content_types=[\"text\"])\n",
        "def handle_text(message):\n",
        "  if message.text.strip() == 'Help':\n",
        "    bot.send_message(message.chat.id, text1)\n",
        "    bot.send_message(message.chat.id, text2)\n",
        "    bot.send_message(message.chat.id, text3)\n",
        "    bot.send_message(message.chat.id, text4)\n",
        "\n",
        "  elif message.text.strip() == 'Source':\n",
        "    bot.send_message(message.chat.id, 'This project uses texts of articles from this [dataset](https://huggingface.co/datasets/abisee/cnn_dailymail)', parse_mode=\"Markdown\")\n",
        "\n",
        "  elif message.text.strip() == \"Random article\":\n",
        "    bot.send_message(message.chat.id, 'Choose one of the following topics: politics, music, films, sport, culture, technology, environment, health, jobs, food, fashion, education')\n",
        "    bot.register_next_step_handler(message, checking)\n",
        "\n",
        "  elif message.text.strip() == \"Practise\":\n",
        "    bot.send_message(message.chat.id, \"Choose one of the following topics for your exercise: politics, music, films, sport, culture, technology, environment, health, jobs, food, fashion, education\")\n",
        "    bot.register_next_step_handler(message, checking_2)\n",
        "\n",
        "  else:\n",
        "    bot.send_message(message.chat.id, text5)\n",
        "\n",
        "bot.polling(none_stop=True, interval=0)"
      ]
    }
  ],
  "metadata": {
    "colab": {
      "provenance": []
    },
    "kernelspec": {
      "display_name": "Python 3",
      "name": "python3"
    },
    "language_info": {
      "name": "python"
    }
  },
  "nbformat": 4,
  "nbformat_minor": 0
}