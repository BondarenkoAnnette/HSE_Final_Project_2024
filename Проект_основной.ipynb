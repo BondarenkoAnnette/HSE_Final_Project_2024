{
  "nbformat": 4,
  "nbformat_minor": 0,
  "metadata": {
    "colab": {
      "provenance": []
    },
    "kernelspec": {
      "name": "python3",
      "display_name": "Python 3"
    },
    "language_info": {
      "name": "python"
    }
  },
  "cells": [
    {
      "cell_type": "code",
      "execution_count": 1,
      "metadata": {
        "id": "GclDouRaHz41",
        "colab": {
          "base_uri": "https://localhost:8080/"
        },
        "outputId": "c541a49c-9715-486d-b868-20e4fb5a490f"
      },
      "outputs": [
        {
          "output_type": "stream",
          "name": "stderr",
          "text": [
            "[nltk_data] Downloading package stopwords to /root/nltk_data...\n",
            "[nltk_data]   Unzipping corpora/stopwords.zip.\n",
            "[nltk_data] Downloading package punkt to /root/nltk_data...\n",
            "[nltk_data]   Unzipping tokenizers/punkt.zip.\n"
          ]
        }
      ],
      "source": [
        "#импорты\n",
        "import pandas as pd\n",
        "\n",
        "import nltk\n",
        "from nltk.tokenize import word_tokenize\n",
        "from nltk import download\n",
        "download('stopwords')\n",
        "from nltk.corpus import stopwords\n",
        "stop_words = stopwords.words('english')\n",
        "nltk.download('punkt')\n",
        "\n",
        "import spacy\n",
        "nlp = spacy.load('en_core_web_sm')"
      ]
    },
    {
      "cell_type": "code",
      "source": [
        "from sklearn.feature_extraction.text import TfidfVectorizer\n",
        "from sklearn.preprocessing import LabelEncoder\n",
        "from sklearn.model_selection import train_test_split\n",
        "from sklearn.linear_model import LogisticRegression\n",
        "from sklearn.metrics import confusion_matrix, classification_report, ConfusionMatrixDisplay, f1_score\n",
        "from sklearn.pipeline import Pipeline\n",
        "from sklearn.model_selection import cross_validate\n",
        "from sklearn.model_selection import RepeatedStratifiedKFold\n",
        "from sklearn.model_selection import GridSearchCV\n",
        "from sklearn.manifold import TSNE\n",
        "\n",
        "import matplotlib.pyplot as plt\n",
        "\n",
        "import pickle"
      ],
      "metadata": {
        "id": "nC6wN7D1vaBl"
      },
      "execution_count": 2,
      "outputs": []
    },
    {
      "cell_type": "code",
      "source": [
        "#откроем датасет\n",
        "df = pd.read_csv(\"/content/drive/MyDrive/English_texts.csv\")\n",
        "df"
      ],
      "metadata": {
        "id": "F2nVsIonIAx5",
        "colab": {
          "base_uri": "https://localhost:8080/",
          "height": 423
        },
        "outputId": "878837ea-459f-480d-c6ae-b7cad306b797"
      },
      "execution_count": 3,
      "outputs": [
        {
          "output_type": "execute_result",
          "data": {
            "text/plain": [
              "                                                 Title  \\\n",
              "0                A day in the life of an airline pilot   \n",
              "1                         Where are you going to shop?   \n",
              "2                          My next summer holiday plan   \n",
              "3              Email to a friend: I’m confined at home   \n",
              "4                   Memories of my first day at school   \n",
              "..                                                 ...   \n",
              "195                       English Pubs and their Signs   \n",
              "196  From smugglers to people traffickers - \\nold a...   \n",
              "197                                TEA and the British   \n",
              "198  All you need is Love - A (true) Celtic Fairy S...   \n",
              "199               Interview: the Bird-Man of the Isles   \n",
              "\n",
              "                                                  Text Level  \n",
              "0    Carole is an aeroplane pilot. She usually work...    A1  \n",
              "1    Hi Karen, thanks for your message. Welcome to ...    A1  \n",
              "2    I usually teach English at a language school i...    A1  \n",
              "3    To: DomParsons@nitromail.com\\nFrom: JamesFShar...    A1  \n",
              "4    I remember my first day at school very well. I...    A1  \n",
              "..                                                 ...   ...  \n",
              "195  The pub, people say, is the heart of British s...    C2  \n",
              "196  Smuggling contraband across the sea has been a...    C2  \n",
              "197  The father of modern economics, Adam Smith, on...    C2  \n",
              "198  Angela's Ashes, the autobiographical novel by ...    C2  \n",
              "199  Andrew Rossiter talks to Graham Ross, who runs...    C2  \n",
              "\n",
              "[200 rows x 3 columns]"
            ],
            "text/html": [
              "\n",
              "  <div id=\"df-1d63bf00-a784-4be9-b0eb-e08138b47550\" class=\"colab-df-container\">\n",
              "    <div>\n",
              "<style scoped>\n",
              "    .dataframe tbody tr th:only-of-type {\n",
              "        vertical-align: middle;\n",
              "    }\n",
              "\n",
              "    .dataframe tbody tr th {\n",
              "        vertical-align: top;\n",
              "    }\n",
              "\n",
              "    .dataframe thead th {\n",
              "        text-align: right;\n",
              "    }\n",
              "</style>\n",
              "<table border=\"1\" class=\"dataframe\">\n",
              "  <thead>\n",
              "    <tr style=\"text-align: right;\">\n",
              "      <th></th>\n",
              "      <th>Title</th>\n",
              "      <th>Text</th>\n",
              "      <th>Level</th>\n",
              "    </tr>\n",
              "  </thead>\n",
              "  <tbody>\n",
              "    <tr>\n",
              "      <th>0</th>\n",
              "      <td>A day in the life of an airline pilot</td>\n",
              "      <td>Carole is an aeroplane pilot. She usually work...</td>\n",
              "      <td>A1</td>\n",
              "    </tr>\n",
              "    <tr>\n",
              "      <th>1</th>\n",
              "      <td>Where are you going to shop?</td>\n",
              "      <td>Hi Karen, thanks for your message. Welcome to ...</td>\n",
              "      <td>A1</td>\n",
              "    </tr>\n",
              "    <tr>\n",
              "      <th>2</th>\n",
              "      <td>My next summer holiday plan</td>\n",
              "      <td>I usually teach English at a language school i...</td>\n",
              "      <td>A1</td>\n",
              "    </tr>\n",
              "    <tr>\n",
              "      <th>3</th>\n",
              "      <td>Email to a friend: I’m confined at home</td>\n",
              "      <td>To: DomParsons@nitromail.com\\nFrom: JamesFShar...</td>\n",
              "      <td>A1</td>\n",
              "    </tr>\n",
              "    <tr>\n",
              "      <th>4</th>\n",
              "      <td>Memories of my first day at school</td>\n",
              "      <td>I remember my first day at school very well. I...</td>\n",
              "      <td>A1</td>\n",
              "    </tr>\n",
              "    <tr>\n",
              "      <th>...</th>\n",
              "      <td>...</td>\n",
              "      <td>...</td>\n",
              "      <td>...</td>\n",
              "    </tr>\n",
              "    <tr>\n",
              "      <th>195</th>\n",
              "      <td>English Pubs and their Signs</td>\n",
              "      <td>The pub, people say, is the heart of British s...</td>\n",
              "      <td>C2</td>\n",
              "    </tr>\n",
              "    <tr>\n",
              "      <th>196</th>\n",
              "      <td>From smugglers to people traffickers - \\nold a...</td>\n",
              "      <td>Smuggling contraband across the sea has been a...</td>\n",
              "      <td>C2</td>\n",
              "    </tr>\n",
              "    <tr>\n",
              "      <th>197</th>\n",
              "      <td>TEA and the British</td>\n",
              "      <td>The father of modern economics, Adam Smith, on...</td>\n",
              "      <td>C2</td>\n",
              "    </tr>\n",
              "    <tr>\n",
              "      <th>198</th>\n",
              "      <td>All you need is Love - A (true) Celtic Fairy S...</td>\n",
              "      <td>Angela's Ashes, the autobiographical novel by ...</td>\n",
              "      <td>C2</td>\n",
              "    </tr>\n",
              "    <tr>\n",
              "      <th>199</th>\n",
              "      <td>Interview: the Bird-Man of the Isles</td>\n",
              "      <td>Andrew Rossiter talks to Graham Ross, who runs...</td>\n",
              "      <td>C2</td>\n",
              "    </tr>\n",
              "  </tbody>\n",
              "</table>\n",
              "<p>200 rows × 3 columns</p>\n",
              "</div>\n",
              "    <div class=\"colab-df-buttons\">\n",
              "\n",
              "  <div class=\"colab-df-container\">\n",
              "    <button class=\"colab-df-convert\" onclick=\"convertToInteractive('df-1d63bf00-a784-4be9-b0eb-e08138b47550')\"\n",
              "            title=\"Convert this dataframe to an interactive table.\"\n",
              "            style=\"display:none;\">\n",
              "\n",
              "  <svg xmlns=\"http://www.w3.org/2000/svg\" height=\"24px\" viewBox=\"0 -960 960 960\">\n",
              "    <path d=\"M120-120v-720h720v720H120Zm60-500h600v-160H180v160Zm220 220h160v-160H400v160Zm0 220h160v-160H400v160ZM180-400h160v-160H180v160Zm440 0h160v-160H620v160ZM180-180h160v-160H180v160Zm440 0h160v-160H620v160Z\"/>\n",
              "  </svg>\n",
              "    </button>\n",
              "\n",
              "  <style>\n",
              "    .colab-df-container {\n",
              "      display:flex;\n",
              "      gap: 12px;\n",
              "    }\n",
              "\n",
              "    .colab-df-convert {\n",
              "      background-color: #E8F0FE;\n",
              "      border: none;\n",
              "      border-radius: 50%;\n",
              "      cursor: pointer;\n",
              "      display: none;\n",
              "      fill: #1967D2;\n",
              "      height: 32px;\n",
              "      padding: 0 0 0 0;\n",
              "      width: 32px;\n",
              "    }\n",
              "\n",
              "    .colab-df-convert:hover {\n",
              "      background-color: #E2EBFA;\n",
              "      box-shadow: 0px 1px 2px rgba(60, 64, 67, 0.3), 0px 1px 3px 1px rgba(60, 64, 67, 0.15);\n",
              "      fill: #174EA6;\n",
              "    }\n",
              "\n",
              "    .colab-df-buttons div {\n",
              "      margin-bottom: 4px;\n",
              "    }\n",
              "\n",
              "    [theme=dark] .colab-df-convert {\n",
              "      background-color: #3B4455;\n",
              "      fill: #D2E3FC;\n",
              "    }\n",
              "\n",
              "    [theme=dark] .colab-df-convert:hover {\n",
              "      background-color: #434B5C;\n",
              "      box-shadow: 0px 1px 3px 1px rgba(0, 0, 0, 0.15);\n",
              "      filter: drop-shadow(0px 1px 2px rgba(0, 0, 0, 0.3));\n",
              "      fill: #FFFFFF;\n",
              "    }\n",
              "  </style>\n",
              "\n",
              "    <script>\n",
              "      const buttonEl =\n",
              "        document.querySelector('#df-1d63bf00-a784-4be9-b0eb-e08138b47550 button.colab-df-convert');\n",
              "      buttonEl.style.display =\n",
              "        google.colab.kernel.accessAllowed ? 'block' : 'none';\n",
              "\n",
              "      async function convertToInteractive(key) {\n",
              "        const element = document.querySelector('#df-1d63bf00-a784-4be9-b0eb-e08138b47550');\n",
              "        const dataTable =\n",
              "          await google.colab.kernel.invokeFunction('convertToInteractive',\n",
              "                                                    [key], {});\n",
              "        if (!dataTable) return;\n",
              "\n",
              "        const docLinkHtml = 'Like what you see? Visit the ' +\n",
              "          '<a target=\"_blank\" href=https://colab.research.google.com/notebooks/data_table.ipynb>data table notebook</a>'\n",
              "          + ' to learn more about interactive tables.';\n",
              "        element.innerHTML = '';\n",
              "        dataTable['output_type'] = 'display_data';\n",
              "        await google.colab.output.renderOutput(dataTable, element);\n",
              "        const docLink = document.createElement('div');\n",
              "        docLink.innerHTML = docLinkHtml;\n",
              "        element.appendChild(docLink);\n",
              "      }\n",
              "    </script>\n",
              "  </div>\n",
              "\n",
              "\n",
              "<div id=\"df-9ebc25f0-93e0-42ee-af9e-ecb5caba6cb5\">\n",
              "  <button class=\"colab-df-quickchart\" onclick=\"quickchart('df-9ebc25f0-93e0-42ee-af9e-ecb5caba6cb5')\"\n",
              "            title=\"Suggest charts\"\n",
              "            style=\"display:none;\">\n",
              "\n",
              "<svg xmlns=\"http://www.w3.org/2000/svg\" height=\"24px\"viewBox=\"0 0 24 24\"\n",
              "     width=\"24px\">\n",
              "    <g>\n",
              "        <path d=\"M19 3H5c-1.1 0-2 .9-2 2v14c0 1.1.9 2 2 2h14c1.1 0 2-.9 2-2V5c0-1.1-.9-2-2-2zM9 17H7v-7h2v7zm4 0h-2V7h2v10zm4 0h-2v-4h2v4z\"/>\n",
              "    </g>\n",
              "</svg>\n",
              "  </button>\n",
              "\n",
              "<style>\n",
              "  .colab-df-quickchart {\n",
              "      --bg-color: #E8F0FE;\n",
              "      --fill-color: #1967D2;\n",
              "      --hover-bg-color: #E2EBFA;\n",
              "      --hover-fill-color: #174EA6;\n",
              "      --disabled-fill-color: #AAA;\n",
              "      --disabled-bg-color: #DDD;\n",
              "  }\n",
              "\n",
              "  [theme=dark] .colab-df-quickchart {\n",
              "      --bg-color: #3B4455;\n",
              "      --fill-color: #D2E3FC;\n",
              "      --hover-bg-color: #434B5C;\n",
              "      --hover-fill-color: #FFFFFF;\n",
              "      --disabled-bg-color: #3B4455;\n",
              "      --disabled-fill-color: #666;\n",
              "  }\n",
              "\n",
              "  .colab-df-quickchart {\n",
              "    background-color: var(--bg-color);\n",
              "    border: none;\n",
              "    border-radius: 50%;\n",
              "    cursor: pointer;\n",
              "    display: none;\n",
              "    fill: var(--fill-color);\n",
              "    height: 32px;\n",
              "    padding: 0;\n",
              "    width: 32px;\n",
              "  }\n",
              "\n",
              "  .colab-df-quickchart:hover {\n",
              "    background-color: var(--hover-bg-color);\n",
              "    box-shadow: 0 1px 2px rgba(60, 64, 67, 0.3), 0 1px 3px 1px rgba(60, 64, 67, 0.15);\n",
              "    fill: var(--button-hover-fill-color);\n",
              "  }\n",
              "\n",
              "  .colab-df-quickchart-complete:disabled,\n",
              "  .colab-df-quickchart-complete:disabled:hover {\n",
              "    background-color: var(--disabled-bg-color);\n",
              "    fill: var(--disabled-fill-color);\n",
              "    box-shadow: none;\n",
              "  }\n",
              "\n",
              "  .colab-df-spinner {\n",
              "    border: 2px solid var(--fill-color);\n",
              "    border-color: transparent;\n",
              "    border-bottom-color: var(--fill-color);\n",
              "    animation:\n",
              "      spin 1s steps(1) infinite;\n",
              "  }\n",
              "\n",
              "  @keyframes spin {\n",
              "    0% {\n",
              "      border-color: transparent;\n",
              "      border-bottom-color: var(--fill-color);\n",
              "      border-left-color: var(--fill-color);\n",
              "    }\n",
              "    20% {\n",
              "      border-color: transparent;\n",
              "      border-left-color: var(--fill-color);\n",
              "      border-top-color: var(--fill-color);\n",
              "    }\n",
              "    30% {\n",
              "      border-color: transparent;\n",
              "      border-left-color: var(--fill-color);\n",
              "      border-top-color: var(--fill-color);\n",
              "      border-right-color: var(--fill-color);\n",
              "    }\n",
              "    40% {\n",
              "      border-color: transparent;\n",
              "      border-right-color: var(--fill-color);\n",
              "      border-top-color: var(--fill-color);\n",
              "    }\n",
              "    60% {\n",
              "      border-color: transparent;\n",
              "      border-right-color: var(--fill-color);\n",
              "    }\n",
              "    80% {\n",
              "      border-color: transparent;\n",
              "      border-right-color: var(--fill-color);\n",
              "      border-bottom-color: var(--fill-color);\n",
              "    }\n",
              "    90% {\n",
              "      border-color: transparent;\n",
              "      border-bottom-color: var(--fill-color);\n",
              "    }\n",
              "  }\n",
              "</style>\n",
              "\n",
              "  <script>\n",
              "    async function quickchart(key) {\n",
              "      const quickchartButtonEl =\n",
              "        document.querySelector('#' + key + ' button');\n",
              "      quickchartButtonEl.disabled = true;  // To prevent multiple clicks.\n",
              "      quickchartButtonEl.classList.add('colab-df-spinner');\n",
              "      try {\n",
              "        const charts = await google.colab.kernel.invokeFunction(\n",
              "            'suggestCharts', [key], {});\n",
              "      } catch (error) {\n",
              "        console.error('Error during call to suggestCharts:', error);\n",
              "      }\n",
              "      quickchartButtonEl.classList.remove('colab-df-spinner');\n",
              "      quickchartButtonEl.classList.add('colab-df-quickchart-complete');\n",
              "    }\n",
              "    (() => {\n",
              "      let quickchartButtonEl =\n",
              "        document.querySelector('#df-9ebc25f0-93e0-42ee-af9e-ecb5caba6cb5 button');\n",
              "      quickchartButtonEl.style.display =\n",
              "        google.colab.kernel.accessAllowed ? 'block' : 'none';\n",
              "    })();\n",
              "  </script>\n",
              "</div>\n",
              "    </div>\n",
              "  </div>\n"
            ],
            "application/vnd.google.colaboratory.intrinsic+json": {
              "type": "dataframe",
              "variable_name": "df",
              "summary": "{\n  \"name\": \"df\",\n  \"rows\": 200,\n  \"fields\": [\n    {\n      \"column\": \"Title\",\n      \"properties\": {\n        \"dtype\": \"string\",\n        \"num_unique_values\": 199,\n        \"samples\": [\n          \"Second-Hand Fashion\",\n          \"Pancake Day\",\n          \"Love is blind\"\n        ],\n        \"semantic_type\": \"\",\n        \"description\": \"\"\n      }\n    },\n    {\n      \"column\": \"Text\",\n      \"properties\": {\n        \"dtype\": \"string\",\n        \"num_unique_values\": 200,\n        \"samples\": [\n          \"If you\\u2019ve been listening to the news you already know about our national obesity levels rising by the day. It has never been more important _____1_____ and to get an adequate amount of exercise and sleep to keep yourself fit and healthy. Though it may feel like really hard work at first, once you adopt an exercise routine and start _____2_____ , you\\u2019ll forget you ever did things differently.\\nHere are just four of the top adjustments to make:\\n1. Get more sleep!\\nSleep is huge and almost a third of the US population doesn\\u2019t get near enough to staying physically and mentally healthy. If you are sleep deprived, try changing your habits in order _____3_____\\n2. Strive for a better diet\\nLook at your diet and what you\\u2019re eating now and make changes where you see fit. If you are susceptible to snacking, keep a piece of fruit or a few nuts at hand. The key is to eat small meals throughout the day. Reduce portion sizes, take out white bread and replace with whole grains and make sure each meal contains at least one portion of fruit and \\u2013 or vegetables. Healthy food doesn\\u2019t have _____4_____ , and you can get an abundance of low priced fruit and veggies, like apples, bananas, potatoes and peas.\\n3. Stop all those bad habits\\nTake a look at your current lifestyle and make a small list of everything you do that is not good for your health. This could be anything, from eating too much junk food or drinking too much caffeine, to smoking or drinking. Start the process of breaking these habits one by one. Some will be easy, while others may take months or maybe years _____5_____ , but the sooner you start fighting, the better.\\nSome addictions (like smoking, drugs or alcohol) are incredibly bad not only to your health, but also to your pocketbook. If you smoke and \\u2013 or drink, start by cutting back on how many drinks you have, or cigarettes you smoke, in a day, and if necessary, seek medical advice and assistance _____6_____ .\\n4. Exercise, exercise, exercise\\nWe all should be doing at least 30 minutes of exercise, 3 to 4 or more times a week, ____7_____. This can be pretty much anything that is physical, like walking, cycling, running, swimming to weightlifting, etc. This too does not have to be expensive, and you can get a great work out without joining any costly gyms. Most of these exercises are inexpensive, and just doing a cardiovascular exercise, like walking, jogging, or walking on a treadmill a few times a week will do your body (and heart) good.\",\n          \"In the UK, people celebrate Pancake Day. This festival takes place in February, on Shrove Tuesday. This is the day before Lent. Lent is an important time in the Christian calendar. It lasts 47 days. During Lent, people traditionally stop eating delicious food, like cakes and chocolate. So on Shrove Tuesday, they must eat up all the nice food in their cupboards. So they make pancakes, and they often eat them with lemon and sugar.\\nMany British towns hold pancake races on Shrove Tuesday. People wear fancy dresses and run down the street with a pancake in a pan. They must throw the pancake in the air and catch it in the pan as they run. It must not fall on the ground.\\nThe tradition of pancake races started in Olney, Buckinghamshire. According to a story, a housewife made pancakes on Easter Sunday in 1445. Then she heard the church bells. She was worried because she was late for church, so she ran to church with her pan and pancake in her hand! Now, Olney\\u2019s pancake race is famous. All the competitors are housewives. They must toss the pancake three times as they run to the church. Then they must serve their pancake to the bell-ringer and receive a kiss from him.\\nWestminster School, an old boys\\u2019 school in London, has a different pancake tradition. The school cook makes a huge pancake and throws it over a five-metre high bar. The schoolboys run to take a piece of the pancake. The boy with the biggest piece of pancake wins some money!\\nThese days, few British people give up delicious food for Lent. But most people eat pancakes on Pancake Day.\",\n          \"In Chandigarh, a city in northeast India, there is an amazing garden. There are tall rocks and small paths between them. There are waterfalls, pools, and hundreds of sculptures. The sculptures are surprising because they are all made from rubbish, like plastic jewellery, bottles, broken pots, sinks, toilets, and pieces of electrical equipment.\\nThe garden has a surprising history too because it was built in secret! A man called Nek Chand started building the garden in 1957. He chose some land in a forest near the city, where there were rocks and a river. Nobody was allowed to build here, so Nek knew that people wouldn\\u2019t see him there. Then he started to collect rubbish and make the sculptures.\\nNek\\u2019s project was illegal, but for 18 years, nobody found it. However, in 1975, some government officials discovered it. By that time, the garden was nearly 49,000m2 in size. The government tried to destroy the garden, but when the people in the city heard about it, they wanted to keep it.\\nIn 1976 it became a public park. After that, Nek Chand received a salary so that he could work in the garden full-time, and fifty more people were employed to work there with him. People paid to visit the garden. Nek put collection centres around the town so that he could make more recycled sculptures.\\nHowever, the garden wasn\\u2019t safe yet. In 1990, the local government tried to build a road through the park, just for VIPs. But local people protested, and their plan failed. Later, Nek became famous. He travelled to the USA to tell people about his garden. But when he returned, his garden was destroyed! It took a long time to rebuild it and keep it safe.\\nNow, a charity manages the garden. Five thousand visitors visit this special place each day. Volunteers, workers, and local children still work here. They keep the garden clean and learn to make sculptures. If you like, you can volunteer here too!\"\n        ],\n        \"semantic_type\": \"\",\n        \"description\": \"\"\n      }\n    },\n    {\n      \"column\": \"Level\",\n      \"properties\": {\n        \"dtype\": \"category\",\n        \"num_unique_values\": 7,\n        \"samples\": [\n          \"A1\",\n          \"A2\",\n          \"A0\"\n        ],\n        \"semantic_type\": \"\",\n        \"description\": \"\"\n      }\n    }\n  ]\n}"
            }
          },
          "metadata": {},
          "execution_count": 3
        }
      ]
    },
    {
      "cell_type": "code",
      "source": [
        "#предобработка текстов\n",
        "def clean_text(text_str):\n",
        "  text_str = text_str.lower() # нижний регистр\n",
        "  text_list_nltk = word_tokenize(text_str) # токенизация\n",
        "  text_clean = ' '.join([word for word in text_list_nltk if word not in stop_words and word[0].isalpha()]) # чистим от стоп-слов и пунктуации\n",
        "  #doc = nlp(text_clean)\n",
        "  #lemmatized_tokens = [token.lemma_ for token in doc] #лемматизация\n",
        "  #lemmatized_text = ' '.join(lemmatized_tokens)\n",
        "  return text_clean"
      ],
      "metadata": {
        "id": "9qp-OsXaJ8z0"
      },
      "execution_count": 4,
      "outputs": []
    },
    {
      "cell_type": "code",
      "source": [
        "df['Clean_text'] = df['Text'].apply(clean_text)\n",
        "df"
      ],
      "metadata": {
        "id": "mN6JdelqKwab",
        "colab": {
          "base_uri": "https://localhost:8080/",
          "height": 423
        },
        "outputId": "b72e78fa-c8d9-4d9d-fcc6-f70343da9018"
      },
      "execution_count": 5,
      "outputs": [
        {
          "output_type": "execute_result",
          "data": {
            "text/plain": [
              "                                                 Title  \\\n",
              "0                A day in the life of an airline pilot   \n",
              "1                         Where are you going to shop?   \n",
              "2                          My next summer holiday plan   \n",
              "3              Email to a friend: I’m confined at home   \n",
              "4                   Memories of my first day at school   \n",
              "..                                                 ...   \n",
              "195                       English Pubs and their Signs   \n",
              "196  From smugglers to people traffickers - \\nold a...   \n",
              "197                                TEA and the British   \n",
              "198  All you need is Love - A (true) Celtic Fairy S...   \n",
              "199               Interview: the Bird-Man of the Isles   \n",
              "\n",
              "                                                  Text Level  \\\n",
              "0    Carole is an aeroplane pilot. She usually work...    A1   \n",
              "1    Hi Karen, thanks for your message. Welcome to ...    A1   \n",
              "2    I usually teach English at a language school i...    A1   \n",
              "3    To: DomParsons@nitromail.com\\nFrom: JamesFShar...    A1   \n",
              "4    I remember my first day at school very well. I...    A1   \n",
              "..                                                 ...   ...   \n",
              "195  The pub, people say, is the heart of British s...    C2   \n",
              "196  Smuggling contraband across the sea has been a...    C2   \n",
              "197  The father of modern economics, Adam Smith, on...    C2   \n",
              "198  Angela's Ashes, the autobiographical novel by ...    C2   \n",
              "199  Andrew Rossiter talks to Graham Ross, who runs...    C2   \n",
              "\n",
              "                                            Clean_text  \n",
              "0    carole aeroplane pilot usually works week week...  \n",
              "1    hi karen thanks message welcome neighbourhood ...  \n",
              "2    usually teach english language school summer o...  \n",
              "3    domparsons nitromail.com jamesfsharp bmail.net...  \n",
              "4    remember first day school well knew school qui...  \n",
              "..                                                 ...  \n",
              "195  pub people say heart british social life place...  \n",
              "196  smuggling contraband across sea active busines...  \n",
              "197  father modern economics adam smith described b...  \n",
              "198  angela ashes autobiographical novel irish writ...  \n",
              "199  andrew rossiter talks graham ross runs one-man...  \n",
              "\n",
              "[200 rows x 4 columns]"
            ],
            "text/html": [
              "\n",
              "  <div id=\"df-b0c8ccf7-b703-4609-be49-96c03fca5cf3\" class=\"colab-df-container\">\n",
              "    <div>\n",
              "<style scoped>\n",
              "    .dataframe tbody tr th:only-of-type {\n",
              "        vertical-align: middle;\n",
              "    }\n",
              "\n",
              "    .dataframe tbody tr th {\n",
              "        vertical-align: top;\n",
              "    }\n",
              "\n",
              "    .dataframe thead th {\n",
              "        text-align: right;\n",
              "    }\n",
              "</style>\n",
              "<table border=\"1\" class=\"dataframe\">\n",
              "  <thead>\n",
              "    <tr style=\"text-align: right;\">\n",
              "      <th></th>\n",
              "      <th>Title</th>\n",
              "      <th>Text</th>\n",
              "      <th>Level</th>\n",
              "      <th>Clean_text</th>\n",
              "    </tr>\n",
              "  </thead>\n",
              "  <tbody>\n",
              "    <tr>\n",
              "      <th>0</th>\n",
              "      <td>A day in the life of an airline pilot</td>\n",
              "      <td>Carole is an aeroplane pilot. She usually work...</td>\n",
              "      <td>A1</td>\n",
              "      <td>carole aeroplane pilot usually works week week...</td>\n",
              "    </tr>\n",
              "    <tr>\n",
              "      <th>1</th>\n",
              "      <td>Where are you going to shop?</td>\n",
              "      <td>Hi Karen, thanks for your message. Welcome to ...</td>\n",
              "      <td>A1</td>\n",
              "      <td>hi karen thanks message welcome neighbourhood ...</td>\n",
              "    </tr>\n",
              "    <tr>\n",
              "      <th>2</th>\n",
              "      <td>My next summer holiday plan</td>\n",
              "      <td>I usually teach English at a language school i...</td>\n",
              "      <td>A1</td>\n",
              "      <td>usually teach english language school summer o...</td>\n",
              "    </tr>\n",
              "    <tr>\n",
              "      <th>3</th>\n",
              "      <td>Email to a friend: I’m confined at home</td>\n",
              "      <td>To: DomParsons@nitromail.com\\nFrom: JamesFShar...</td>\n",
              "      <td>A1</td>\n",
              "      <td>domparsons nitromail.com jamesfsharp bmail.net...</td>\n",
              "    </tr>\n",
              "    <tr>\n",
              "      <th>4</th>\n",
              "      <td>Memories of my first day at school</td>\n",
              "      <td>I remember my first day at school very well. I...</td>\n",
              "      <td>A1</td>\n",
              "      <td>remember first day school well knew school qui...</td>\n",
              "    </tr>\n",
              "    <tr>\n",
              "      <th>...</th>\n",
              "      <td>...</td>\n",
              "      <td>...</td>\n",
              "      <td>...</td>\n",
              "      <td>...</td>\n",
              "    </tr>\n",
              "    <tr>\n",
              "      <th>195</th>\n",
              "      <td>English Pubs and their Signs</td>\n",
              "      <td>The pub, people say, is the heart of British s...</td>\n",
              "      <td>C2</td>\n",
              "      <td>pub people say heart british social life place...</td>\n",
              "    </tr>\n",
              "    <tr>\n",
              "      <th>196</th>\n",
              "      <td>From smugglers to people traffickers - \\nold a...</td>\n",
              "      <td>Smuggling contraband across the sea has been a...</td>\n",
              "      <td>C2</td>\n",
              "      <td>smuggling contraband across sea active busines...</td>\n",
              "    </tr>\n",
              "    <tr>\n",
              "      <th>197</th>\n",
              "      <td>TEA and the British</td>\n",
              "      <td>The father of modern economics, Adam Smith, on...</td>\n",
              "      <td>C2</td>\n",
              "      <td>father modern economics adam smith described b...</td>\n",
              "    </tr>\n",
              "    <tr>\n",
              "      <th>198</th>\n",
              "      <td>All you need is Love - A (true) Celtic Fairy S...</td>\n",
              "      <td>Angela's Ashes, the autobiographical novel by ...</td>\n",
              "      <td>C2</td>\n",
              "      <td>angela ashes autobiographical novel irish writ...</td>\n",
              "    </tr>\n",
              "    <tr>\n",
              "      <th>199</th>\n",
              "      <td>Interview: the Bird-Man of the Isles</td>\n",
              "      <td>Andrew Rossiter talks to Graham Ross, who runs...</td>\n",
              "      <td>C2</td>\n",
              "      <td>andrew rossiter talks graham ross runs one-man...</td>\n",
              "    </tr>\n",
              "  </tbody>\n",
              "</table>\n",
              "<p>200 rows × 4 columns</p>\n",
              "</div>\n",
              "    <div class=\"colab-df-buttons\">\n",
              "\n",
              "  <div class=\"colab-df-container\">\n",
              "    <button class=\"colab-df-convert\" onclick=\"convertToInteractive('df-b0c8ccf7-b703-4609-be49-96c03fca5cf3')\"\n",
              "            title=\"Convert this dataframe to an interactive table.\"\n",
              "            style=\"display:none;\">\n",
              "\n",
              "  <svg xmlns=\"http://www.w3.org/2000/svg\" height=\"24px\" viewBox=\"0 -960 960 960\">\n",
              "    <path d=\"M120-120v-720h720v720H120Zm60-500h600v-160H180v160Zm220 220h160v-160H400v160Zm0 220h160v-160H400v160ZM180-400h160v-160H180v160Zm440 0h160v-160H620v160ZM180-180h160v-160H180v160Zm440 0h160v-160H620v160Z\"/>\n",
              "  </svg>\n",
              "    </button>\n",
              "\n",
              "  <style>\n",
              "    .colab-df-container {\n",
              "      display:flex;\n",
              "      gap: 12px;\n",
              "    }\n",
              "\n",
              "    .colab-df-convert {\n",
              "      background-color: #E8F0FE;\n",
              "      border: none;\n",
              "      border-radius: 50%;\n",
              "      cursor: pointer;\n",
              "      display: none;\n",
              "      fill: #1967D2;\n",
              "      height: 32px;\n",
              "      padding: 0 0 0 0;\n",
              "      width: 32px;\n",
              "    }\n",
              "\n",
              "    .colab-df-convert:hover {\n",
              "      background-color: #E2EBFA;\n",
              "      box-shadow: 0px 1px 2px rgba(60, 64, 67, 0.3), 0px 1px 3px 1px rgba(60, 64, 67, 0.15);\n",
              "      fill: #174EA6;\n",
              "    }\n",
              "\n",
              "    .colab-df-buttons div {\n",
              "      margin-bottom: 4px;\n",
              "    }\n",
              "\n",
              "    [theme=dark] .colab-df-convert {\n",
              "      background-color: #3B4455;\n",
              "      fill: #D2E3FC;\n",
              "    }\n",
              "\n",
              "    [theme=dark] .colab-df-convert:hover {\n",
              "      background-color: #434B5C;\n",
              "      box-shadow: 0px 1px 3px 1px rgba(0, 0, 0, 0.15);\n",
              "      filter: drop-shadow(0px 1px 2px rgba(0, 0, 0, 0.3));\n",
              "      fill: #FFFFFF;\n",
              "    }\n",
              "  </style>\n",
              "\n",
              "    <script>\n",
              "      const buttonEl =\n",
              "        document.querySelector('#df-b0c8ccf7-b703-4609-be49-96c03fca5cf3 button.colab-df-convert');\n",
              "      buttonEl.style.display =\n",
              "        google.colab.kernel.accessAllowed ? 'block' : 'none';\n",
              "\n",
              "      async function convertToInteractive(key) {\n",
              "        const element = document.querySelector('#df-b0c8ccf7-b703-4609-be49-96c03fca5cf3');\n",
              "        const dataTable =\n",
              "          await google.colab.kernel.invokeFunction('convertToInteractive',\n",
              "                                                    [key], {});\n",
              "        if (!dataTable) return;\n",
              "\n",
              "        const docLinkHtml = 'Like what you see? Visit the ' +\n",
              "          '<a target=\"_blank\" href=https://colab.research.google.com/notebooks/data_table.ipynb>data table notebook</a>'\n",
              "          + ' to learn more about interactive tables.';\n",
              "        element.innerHTML = '';\n",
              "        dataTable['output_type'] = 'display_data';\n",
              "        await google.colab.output.renderOutput(dataTable, element);\n",
              "        const docLink = document.createElement('div');\n",
              "        docLink.innerHTML = docLinkHtml;\n",
              "        element.appendChild(docLink);\n",
              "      }\n",
              "    </script>\n",
              "  </div>\n",
              "\n",
              "\n",
              "<div id=\"df-558a797b-f1ff-4a2c-b571-2d3fd5496a4d\">\n",
              "  <button class=\"colab-df-quickchart\" onclick=\"quickchart('df-558a797b-f1ff-4a2c-b571-2d3fd5496a4d')\"\n",
              "            title=\"Suggest charts\"\n",
              "            style=\"display:none;\">\n",
              "\n",
              "<svg xmlns=\"http://www.w3.org/2000/svg\" height=\"24px\"viewBox=\"0 0 24 24\"\n",
              "     width=\"24px\">\n",
              "    <g>\n",
              "        <path d=\"M19 3H5c-1.1 0-2 .9-2 2v14c0 1.1.9 2 2 2h14c1.1 0 2-.9 2-2V5c0-1.1-.9-2-2-2zM9 17H7v-7h2v7zm4 0h-2V7h2v10zm4 0h-2v-4h2v4z\"/>\n",
              "    </g>\n",
              "</svg>\n",
              "  </button>\n",
              "\n",
              "<style>\n",
              "  .colab-df-quickchart {\n",
              "      --bg-color: #E8F0FE;\n",
              "      --fill-color: #1967D2;\n",
              "      --hover-bg-color: #E2EBFA;\n",
              "      --hover-fill-color: #174EA6;\n",
              "      --disabled-fill-color: #AAA;\n",
              "      --disabled-bg-color: #DDD;\n",
              "  }\n",
              "\n",
              "  [theme=dark] .colab-df-quickchart {\n",
              "      --bg-color: #3B4455;\n",
              "      --fill-color: #D2E3FC;\n",
              "      --hover-bg-color: #434B5C;\n",
              "      --hover-fill-color: #FFFFFF;\n",
              "      --disabled-bg-color: #3B4455;\n",
              "      --disabled-fill-color: #666;\n",
              "  }\n",
              "\n",
              "  .colab-df-quickchart {\n",
              "    background-color: var(--bg-color);\n",
              "    border: none;\n",
              "    border-radius: 50%;\n",
              "    cursor: pointer;\n",
              "    display: none;\n",
              "    fill: var(--fill-color);\n",
              "    height: 32px;\n",
              "    padding: 0;\n",
              "    width: 32px;\n",
              "  }\n",
              "\n",
              "  .colab-df-quickchart:hover {\n",
              "    background-color: var(--hover-bg-color);\n",
              "    box-shadow: 0 1px 2px rgba(60, 64, 67, 0.3), 0 1px 3px 1px rgba(60, 64, 67, 0.15);\n",
              "    fill: var(--button-hover-fill-color);\n",
              "  }\n",
              "\n",
              "  .colab-df-quickchart-complete:disabled,\n",
              "  .colab-df-quickchart-complete:disabled:hover {\n",
              "    background-color: var(--disabled-bg-color);\n",
              "    fill: var(--disabled-fill-color);\n",
              "    box-shadow: none;\n",
              "  }\n",
              "\n",
              "  .colab-df-spinner {\n",
              "    border: 2px solid var(--fill-color);\n",
              "    border-color: transparent;\n",
              "    border-bottom-color: var(--fill-color);\n",
              "    animation:\n",
              "      spin 1s steps(1) infinite;\n",
              "  }\n",
              "\n",
              "  @keyframes spin {\n",
              "    0% {\n",
              "      border-color: transparent;\n",
              "      border-bottom-color: var(--fill-color);\n",
              "      border-left-color: var(--fill-color);\n",
              "    }\n",
              "    20% {\n",
              "      border-color: transparent;\n",
              "      border-left-color: var(--fill-color);\n",
              "      border-top-color: var(--fill-color);\n",
              "    }\n",
              "    30% {\n",
              "      border-color: transparent;\n",
              "      border-left-color: var(--fill-color);\n",
              "      border-top-color: var(--fill-color);\n",
              "      border-right-color: var(--fill-color);\n",
              "    }\n",
              "    40% {\n",
              "      border-color: transparent;\n",
              "      border-right-color: var(--fill-color);\n",
              "      border-top-color: var(--fill-color);\n",
              "    }\n",
              "    60% {\n",
              "      border-color: transparent;\n",
              "      border-right-color: var(--fill-color);\n",
              "    }\n",
              "    80% {\n",
              "      border-color: transparent;\n",
              "      border-right-color: var(--fill-color);\n",
              "      border-bottom-color: var(--fill-color);\n",
              "    }\n",
              "    90% {\n",
              "      border-color: transparent;\n",
              "      border-bottom-color: var(--fill-color);\n",
              "    }\n",
              "  }\n",
              "</style>\n",
              "\n",
              "  <script>\n",
              "    async function quickchart(key) {\n",
              "      const quickchartButtonEl =\n",
              "        document.querySelector('#' + key + ' button');\n",
              "      quickchartButtonEl.disabled = true;  // To prevent multiple clicks.\n",
              "      quickchartButtonEl.classList.add('colab-df-spinner');\n",
              "      try {\n",
              "        const charts = await google.colab.kernel.invokeFunction(\n",
              "            'suggestCharts', [key], {});\n",
              "      } catch (error) {\n",
              "        console.error('Error during call to suggestCharts:', error);\n",
              "      }\n",
              "      quickchartButtonEl.classList.remove('colab-df-spinner');\n",
              "      quickchartButtonEl.classList.add('colab-df-quickchart-complete');\n",
              "    }\n",
              "    (() => {\n",
              "      let quickchartButtonEl =\n",
              "        document.querySelector('#df-558a797b-f1ff-4a2c-b571-2d3fd5496a4d button');\n",
              "      quickchartButtonEl.style.display =\n",
              "        google.colab.kernel.accessAllowed ? 'block' : 'none';\n",
              "    })();\n",
              "  </script>\n",
              "</div>\n",
              "    </div>\n",
              "  </div>\n"
            ],
            "application/vnd.google.colaboratory.intrinsic+json": {
              "type": "dataframe",
              "variable_name": "df",
              "summary": "{\n  \"name\": \"df\",\n  \"rows\": 200,\n  \"fields\": [\n    {\n      \"column\": \"Title\",\n      \"properties\": {\n        \"dtype\": \"string\",\n        \"num_unique_values\": 199,\n        \"samples\": [\n          \"Second-Hand Fashion\",\n          \"Pancake Day\",\n          \"Love is blind\"\n        ],\n        \"semantic_type\": \"\",\n        \"description\": \"\"\n      }\n    },\n    {\n      \"column\": \"Text\",\n      \"properties\": {\n        \"dtype\": \"string\",\n        \"num_unique_values\": 200,\n        \"samples\": [\n          \"If you\\u2019ve been listening to the news you already know about our national obesity levels rising by the day. It has never been more important _____1_____ and to get an adequate amount of exercise and sleep to keep yourself fit and healthy. Though it may feel like really hard work at first, once you adopt an exercise routine and start _____2_____ , you\\u2019ll forget you ever did things differently.\\nHere are just four of the top adjustments to make:\\n1. Get more sleep!\\nSleep is huge and almost a third of the US population doesn\\u2019t get near enough to staying physically and mentally healthy. If you are sleep deprived, try changing your habits in order _____3_____\\n2. Strive for a better diet\\nLook at your diet and what you\\u2019re eating now and make changes where you see fit. If you are susceptible to snacking, keep a piece of fruit or a few nuts at hand. The key is to eat small meals throughout the day. Reduce portion sizes, take out white bread and replace with whole grains and make sure each meal contains at least one portion of fruit and \\u2013 or vegetables. Healthy food doesn\\u2019t have _____4_____ , and you can get an abundance of low priced fruit and veggies, like apples, bananas, potatoes and peas.\\n3. Stop all those bad habits\\nTake a look at your current lifestyle and make a small list of everything you do that is not good for your health. This could be anything, from eating too much junk food or drinking too much caffeine, to smoking or drinking. Start the process of breaking these habits one by one. Some will be easy, while others may take months or maybe years _____5_____ , but the sooner you start fighting, the better.\\nSome addictions (like smoking, drugs or alcohol) are incredibly bad not only to your health, but also to your pocketbook. If you smoke and \\u2013 or drink, start by cutting back on how many drinks you have, or cigarettes you smoke, in a day, and if necessary, seek medical advice and assistance _____6_____ .\\n4. Exercise, exercise, exercise\\nWe all should be doing at least 30 minutes of exercise, 3 to 4 or more times a week, ____7_____. This can be pretty much anything that is physical, like walking, cycling, running, swimming to weightlifting, etc. This too does not have to be expensive, and you can get a great work out without joining any costly gyms. Most of these exercises are inexpensive, and just doing a cardiovascular exercise, like walking, jogging, or walking on a treadmill a few times a week will do your body (and heart) good.\",\n          \"In the UK, people celebrate Pancake Day. This festival takes place in February, on Shrove Tuesday. This is the day before Lent. Lent is an important time in the Christian calendar. It lasts 47 days. During Lent, people traditionally stop eating delicious food, like cakes and chocolate. So on Shrove Tuesday, they must eat up all the nice food in their cupboards. So they make pancakes, and they often eat them with lemon and sugar.\\nMany British towns hold pancake races on Shrove Tuesday. People wear fancy dresses and run down the street with a pancake in a pan. They must throw the pancake in the air and catch it in the pan as they run. It must not fall on the ground.\\nThe tradition of pancake races started in Olney, Buckinghamshire. According to a story, a housewife made pancakes on Easter Sunday in 1445. Then she heard the church bells. She was worried because she was late for church, so she ran to church with her pan and pancake in her hand! Now, Olney\\u2019s pancake race is famous. All the competitors are housewives. They must toss the pancake three times as they run to the church. Then they must serve their pancake to the bell-ringer and receive a kiss from him.\\nWestminster School, an old boys\\u2019 school in London, has a different pancake tradition. The school cook makes a huge pancake and throws it over a five-metre high bar. The schoolboys run to take a piece of the pancake. The boy with the biggest piece of pancake wins some money!\\nThese days, few British people give up delicious food for Lent. But most people eat pancakes on Pancake Day.\",\n          \"In Chandigarh, a city in northeast India, there is an amazing garden. There are tall rocks and small paths between them. There are waterfalls, pools, and hundreds of sculptures. The sculptures are surprising because they are all made from rubbish, like plastic jewellery, bottles, broken pots, sinks, toilets, and pieces of electrical equipment.\\nThe garden has a surprising history too because it was built in secret! A man called Nek Chand started building the garden in 1957. He chose some land in a forest near the city, where there were rocks and a river. Nobody was allowed to build here, so Nek knew that people wouldn\\u2019t see him there. Then he started to collect rubbish and make the sculptures.\\nNek\\u2019s project was illegal, but for 18 years, nobody found it. However, in 1975, some government officials discovered it. By that time, the garden was nearly 49,000m2 in size. The government tried to destroy the garden, but when the people in the city heard about it, they wanted to keep it.\\nIn 1976 it became a public park. After that, Nek Chand received a salary so that he could work in the garden full-time, and fifty more people were employed to work there with him. People paid to visit the garden. Nek put collection centres around the town so that he could make more recycled sculptures.\\nHowever, the garden wasn\\u2019t safe yet. In 1990, the local government tried to build a road through the park, just for VIPs. But local people protested, and their plan failed. Later, Nek became famous. He travelled to the USA to tell people about his garden. But when he returned, his garden was destroyed! It took a long time to rebuild it and keep it safe.\\nNow, a charity manages the garden. Five thousand visitors visit this special place each day. Volunteers, workers, and local children still work here. They keep the garden clean and learn to make sculptures. If you like, you can volunteer here too!\"\n        ],\n        \"semantic_type\": \"\",\n        \"description\": \"\"\n      }\n    },\n    {\n      \"column\": \"Level\",\n      \"properties\": {\n        \"dtype\": \"category\",\n        \"num_unique_values\": 7,\n        \"samples\": [\n          \"A1\",\n          \"A2\",\n          \"A0\"\n        ],\n        \"semantic_type\": \"\",\n        \"description\": \"\"\n      }\n    },\n    {\n      \"column\": \"Clean_text\",\n      \"properties\": {\n        \"dtype\": \"string\",\n        \"num_unique_values\": 200,\n        \"samples\": [\n          \"listening news already know national obesity levels rising day never important get adequate amount exercise sleep keep fit healthy though may feel like really hard work first adopt exercise routine start forget ever things differently four top adjustments make get sleep sleep huge almost third us population get near enough staying physically mentally healthy sleep deprived try changing habits order strive better diet look diet eating make changes see fit susceptible snacking keep piece fruit nuts hand key eat small meals throughout day reduce portion sizes take white bread replace whole grains make sure meal contains least one portion fruit vegetables healthy food get abundance low priced fruit veggies like apples bananas potatoes peas stop bad habits take look current lifestyle make small list everything good health could anything eating much junk food drinking much caffeine smoking drinking start process breaking habits one one easy others may take months maybe years sooner start fighting better addictions like smoking drugs alcohol incredibly bad health also pocketbook smoke drink start cutting back many drinks cigarettes smoke day necessary seek medical advice assistance exercise exercise exercise least minutes exercise times week pretty much anything physical like walking cycling running swimming weightlifting etc expensive get great work without joining costly gyms exercises inexpensive cardiovascular exercise like walking jogging walking treadmill times week body heart good\",\n          \"uk people celebrate pancake day festival takes place february shrove tuesday day lent lent important time christian calendar lasts days lent people traditionally stop eating delicious food like cakes chocolate shrove tuesday must eat nice food cupboards make pancakes often eat lemon sugar many british towns hold pancake races shrove tuesday people wear fancy dresses run street pancake pan must throw pancake air catch pan run must fall ground tradition pancake races started olney buckinghamshire according story housewife made pancakes easter sunday heard church bells worried late church ran church pan pancake hand olney pancake race famous competitors housewives must toss pancake three times run church must serve pancake bell-ringer receive kiss westminster school old boys school london different pancake tradition school cook makes huge pancake throws five-metre high bar schoolboys run take piece pancake boy biggest piece pancake wins money days british people give delicious food lent people eat pancakes pancake day\",\n          \"chandigarh city northeast india amazing garden tall rocks small paths waterfalls pools hundreds sculptures sculptures surprising made rubbish like plastic jewellery bottles broken pots sinks toilets pieces electrical equipment garden surprising history built secret man called nek chand started building garden chose land forest near city rocks river nobody allowed build nek knew people see started collect rubbish make sculptures nek project illegal years nobody found however government officials discovered time garden nearly size government tried destroy garden people city heard wanted keep became public park nek chand received salary could work garden full-time fifty people employed work people paid visit garden nek put collection centres around town could make recycled sculptures however garden safe yet local government tried build road park vips local people protested plan failed later nek became famous travelled usa tell people garden returned garden destroyed took long time rebuild keep safe charity manages garden five thousand visitors visit special place day volunteers workers local children still work keep garden clean learn make sculptures like volunteer\"\n        ],\n        \"semantic_type\": \"\",\n        \"description\": \"\"\n      }\n    }\n  ]\n}"
            }
          },
          "metadata": {},
          "execution_count": 5
        }
      ]
    },
    {
      "cell_type": "code",
      "source": [
        "#векторизуем независимую переменную\n",
        "tf_idf = TfidfVectorizer()\n",
        "\n",
        "X = df['Clean_text']\n",
        "\n",
        "X_vec = tf_idf.fit_transform(X)\n",
        "\n",
        "X_vec.shape"
      ],
      "metadata": {
        "id": "pn7JsP9cMz1v",
        "colab": {
          "base_uri": "https://localhost:8080/"
        },
        "outputId": "1d1cfc1b-930a-4eaa-e2fc-9a7cebbad7d1"
      },
      "execution_count": 6,
      "outputs": [
        {
          "output_type": "execute_result",
          "data": {
            "text/plain": [
              "(200, 9179)"
            ]
          },
          "metadata": {},
          "execution_count": 6
        }
      ]
    },
    {
      "cell_type": "code",
      "source": [
        "#кодируем зависимую переменную\n",
        "le = LabelEncoder()\n",
        "\n",
        "y = df['Level'].tolist()\n",
        "\n",
        "y_enc = le.fit_transform(y)"
      ],
      "metadata": {
        "id": "S91iHwtPTFf7",
        "collapsed": true
      },
      "execution_count": 7,
      "outputs": []
    },
    {
      "cell_type": "code",
      "source": [
        "#разделим данные на обучающую и тестовую выборки\n",
        "X_train, X_test, y_train, y_test = train_test_split(X_vec,\n",
        "                                                    y_enc,\n",
        "                                                    test_size=0.2,\n",
        "                                                    stratify=y_enc,\n",
        "                                                    random_state=42\n",
        "                                                    )"
      ],
      "metadata": {
        "id": "5YARkrA0N309"
      },
      "execution_count": 8,
      "outputs": []
    },
    {
      "cell_type": "code",
      "source": [
        "#классификация\n",
        "classifier = LogisticRegression(random_state=42, class_weight='balanced')"
      ],
      "metadata": {
        "id": "pmVTEexuw4mW"
      },
      "execution_count": 25,
      "outputs": []
    },
    {
      "cell_type": "code",
      "source": [
        "classifier.fit(X_train, y_train)"
      ],
      "metadata": {
        "colab": {
          "base_uri": "https://localhost:8080/",
          "height": 74
        },
        "id": "5MyjgoBWIPyI",
        "outputId": "dda3bb42-89d6-4d23-ea63-404f449a54a3"
      },
      "execution_count": 26,
      "outputs": [
        {
          "output_type": "execute_result",
          "data": {
            "text/plain": [
              "LogisticRegression(class_weight='balanced', random_state=42)"
            ],
            "text/html": [
              "<style>#sk-container-id-1 {color: black;background-color: white;}#sk-container-id-1 pre{padding: 0;}#sk-container-id-1 div.sk-toggleable {background-color: white;}#sk-container-id-1 label.sk-toggleable__label {cursor: pointer;display: block;width: 100%;margin-bottom: 0;padding: 0.3em;box-sizing: border-box;text-align: center;}#sk-container-id-1 label.sk-toggleable__label-arrow:before {content: \"▸\";float: left;margin-right: 0.25em;color: #696969;}#sk-container-id-1 label.sk-toggleable__label-arrow:hover:before {color: black;}#sk-container-id-1 div.sk-estimator:hover label.sk-toggleable__label-arrow:before {color: black;}#sk-container-id-1 div.sk-toggleable__content {max-height: 0;max-width: 0;overflow: hidden;text-align: left;background-color: #f0f8ff;}#sk-container-id-1 div.sk-toggleable__content pre {margin: 0.2em;color: black;border-radius: 0.25em;background-color: #f0f8ff;}#sk-container-id-1 input.sk-toggleable__control:checked~div.sk-toggleable__content {max-height: 200px;max-width: 100%;overflow: auto;}#sk-container-id-1 input.sk-toggleable__control:checked~label.sk-toggleable__label-arrow:before {content: \"▾\";}#sk-container-id-1 div.sk-estimator input.sk-toggleable__control:checked~label.sk-toggleable__label {background-color: #d4ebff;}#sk-container-id-1 div.sk-label input.sk-toggleable__control:checked~label.sk-toggleable__label {background-color: #d4ebff;}#sk-container-id-1 input.sk-hidden--visually {border: 0;clip: rect(1px 1px 1px 1px);clip: rect(1px, 1px, 1px, 1px);height: 1px;margin: -1px;overflow: hidden;padding: 0;position: absolute;width: 1px;}#sk-container-id-1 div.sk-estimator {font-family: monospace;background-color: #f0f8ff;border: 1px dotted black;border-radius: 0.25em;box-sizing: border-box;margin-bottom: 0.5em;}#sk-container-id-1 div.sk-estimator:hover {background-color: #d4ebff;}#sk-container-id-1 div.sk-parallel-item::after {content: \"\";width: 100%;border-bottom: 1px solid gray;flex-grow: 1;}#sk-container-id-1 div.sk-label:hover label.sk-toggleable__label {background-color: #d4ebff;}#sk-container-id-1 div.sk-serial::before {content: \"\";position: absolute;border-left: 1px solid gray;box-sizing: border-box;top: 0;bottom: 0;left: 50%;z-index: 0;}#sk-container-id-1 div.sk-serial {display: flex;flex-direction: column;align-items: center;background-color: white;padding-right: 0.2em;padding-left: 0.2em;position: relative;}#sk-container-id-1 div.sk-item {position: relative;z-index: 1;}#sk-container-id-1 div.sk-parallel {display: flex;align-items: stretch;justify-content: center;background-color: white;position: relative;}#sk-container-id-1 div.sk-item::before, #sk-container-id-1 div.sk-parallel-item::before {content: \"\";position: absolute;border-left: 1px solid gray;box-sizing: border-box;top: 0;bottom: 0;left: 50%;z-index: -1;}#sk-container-id-1 div.sk-parallel-item {display: flex;flex-direction: column;z-index: 1;position: relative;background-color: white;}#sk-container-id-1 div.sk-parallel-item:first-child::after {align-self: flex-end;width: 50%;}#sk-container-id-1 div.sk-parallel-item:last-child::after {align-self: flex-start;width: 50%;}#sk-container-id-1 div.sk-parallel-item:only-child::after {width: 0;}#sk-container-id-1 div.sk-dashed-wrapped {border: 1px dashed gray;margin: 0 0.4em 0.5em 0.4em;box-sizing: border-box;padding-bottom: 0.4em;background-color: white;}#sk-container-id-1 div.sk-label label {font-family: monospace;font-weight: bold;display: inline-block;line-height: 1.2em;}#sk-container-id-1 div.sk-label-container {text-align: center;}#sk-container-id-1 div.sk-container {/* jupyter's `normalize.less` sets `[hidden] { display: none; }` but bootstrap.min.css set `[hidden] { display: none !important; }` so we also need the `!important` here to be able to override the default hidden behavior on the sphinx rendered scikit-learn.org. See: https://github.com/scikit-learn/scikit-learn/issues/21755 */display: inline-block !important;position: relative;}#sk-container-id-1 div.sk-text-repr-fallback {display: none;}</style><div id=\"sk-container-id-1\" class=\"sk-top-container\"><div class=\"sk-text-repr-fallback\"><pre>LogisticRegression(class_weight=&#x27;balanced&#x27;, random_state=42)</pre><b>In a Jupyter environment, please rerun this cell to show the HTML representation or trust the notebook. <br />On GitHub, the HTML representation is unable to render, please try loading this page with nbviewer.org.</b></div><div class=\"sk-container\" hidden><div class=\"sk-item\"><div class=\"sk-estimator sk-toggleable\"><input class=\"sk-toggleable__control sk-hidden--visually\" id=\"sk-estimator-id-1\" type=\"checkbox\" checked><label for=\"sk-estimator-id-1\" class=\"sk-toggleable__label sk-toggleable__label-arrow\">LogisticRegression</label><div class=\"sk-toggleable__content\"><pre>LogisticRegression(class_weight=&#x27;balanced&#x27;, random_state=42)</pre></div></div></div></div></div>"
            ]
          },
          "metadata": {},
          "execution_count": 26
        }
      ]
    },
    {
      "cell_type": "code",
      "source": [
        "#получим предсказания\n",
        "y_preds = classifier.predict(X_test)"
      ],
      "metadata": {
        "id": "E1JEcDjQ5gtb"
      },
      "execution_count": 27,
      "outputs": []
    },
    {
      "cell_type": "code",
      "source": [
        "#посмотрим на результаты\n",
        "print(classification_report(y_test, y_preds, target_names=le.classes_))"
      ],
      "metadata": {
        "colab": {
          "base_uri": "https://localhost:8080/"
        },
        "id": "1ljIm0-o5uKu",
        "outputId": "e2c5f0f9-3d94-4348-fe66-d131208da75c"
      },
      "execution_count": null,
      "outputs": [
        {
          "output_type": "stream",
          "name": "stdout",
          "text": [
            "              precision    recall  f1-score   support\n",
            "\n",
            "          A0       0.50      0.50      0.50         2\n",
            "          A1       0.50      0.67      0.57         6\n",
            "          A2       0.56      0.56      0.56         9\n",
            "          B1       0.67      0.29      0.40         7\n",
            "          B2       0.33      0.50      0.40         6\n",
            "          C1       0.83      0.83      0.83         6\n",
            "          C2       1.00      0.75      0.86         4\n",
            "\n",
            "    accuracy                           0.57        40\n",
            "   macro avg       0.63      0.58      0.59        40\n",
            "weighted avg       0.62      0.57      0.58        40\n",
            "\n"
          ]
        }
      ]
    },
    {
      "cell_type": "code",
      "source": [
        "cm = confusion_matrix(y_test, y_preds)\n",
        "cm_display = ConfusionMatrixDisplay(cm, display_labels=le.classes_).plot()"
      ],
      "metadata": {
        "colab": {
          "base_uri": "https://localhost:8080/",
          "height": 455
        },
        "id": "obj8wsMiOVbu",
        "outputId": "ddd76f1f-649a-4a1c-d553-812b928660f2"
      },
      "execution_count": null,
      "outputs": [
        {
          "output_type": "display_data",
          "data": {
            "text/plain": [
              "<Figure size 640x480 with 2 Axes>"
            ],
            "image/png": "[encoded data removed]"
          },
          "metadata": {}
        }
      ]
    },
    {
      "cell_type": "code",
      "source": [
        "f1_score(y_test, y_preds, average='weighted')"
      ],
      "metadata": {
        "colab": {
          "base_uri": "https://localhost:8080/"
        },
        "id": "Gf7xySDgwEh5",
        "outputId": "ecaab835-4778-4210-e8da-8d8afded58c0"
      },
      "execution_count": null,
      "outputs": [
        {
          "output_type": "execute_result",
          "data": {
            "text/plain": [
              "0.5764285714285714"
            ]
          },
          "metadata": {},
          "execution_count": 30
        }
      ]
    },
    {
      "cell_type": "code",
      "source": [
        "#сохранение модели\n",
        "filename = 'level_classifier.sav'\n",
        "pickle.dump(classifier, open(filename, 'wb'))\n",
        "#сохранение векторайзера\n",
        "pickle.dump(tf_idf, open(\"tfidf.pickle\", \"wb\"))"
      ],
      "metadata": {
        "id": "2ye4m1Dqopxa"
      },
      "execution_count": 38,
      "outputs": []
    },
    {
      "cell_type": "code",
      "source": [
        "#предсказания модели для новых данных см. в файле \"тест модели\""
      ],
      "metadata": {
        "id": "LjHo3UIBBGGa"
      },
      "execution_count": 9,
      "outputs": []
    },
    {
      "cell_type": "code",
      "source": [
        "#доп. вариант получения новых предсказаний через пайплайн (основной вариант см. в файле \"тест модели\")\n",
        "pipe = Pipeline([('tfidf',TfidfVectorizer()),\n",
        "                 ('clf', LogisticRegression())])"
      ],
      "metadata": {
        "id": "jr_hnA-3r6At"
      },
      "execution_count": 10,
      "outputs": []
    },
    {
      "cell_type": "code",
      "source": [
        "pipe.fit(X, y)"
      ],
      "metadata": {
        "colab": {
          "base_uri": "https://localhost:8080/",
          "height": 125
        },
        "id": "uePO4EDTsTTz",
        "outputId": "bac415ba-a902-4a14-d06b-e9f35d98b45c"
      },
      "execution_count": 11,
      "outputs": [
        {
          "output_type": "execute_result",
          "data": {
            "text/plain": [
              "Pipeline(steps=[('tfidf', TfidfVectorizer()), ('clf', LogisticRegression())])"
            ],
            "text/html": [
              "<style>#sk-container-id-1 {color: black;background-color: white;}#sk-container-id-1 pre{padding: 0;}#sk-container-id-1 div.sk-toggleable {background-color: white;}#sk-container-id-1 label.sk-toggleable__label {cursor: pointer;display: block;width: 100%;margin-bottom: 0;padding: 0.3em;box-sizing: border-box;text-align: center;}#sk-container-id-1 label.sk-toggleable__label-arrow:before {content: \"▸\";float: left;margin-right: 0.25em;color: #696969;}#sk-container-id-1 label.sk-toggleable__label-arrow:hover:before {color: black;}#sk-container-id-1 div.sk-estimator:hover label.sk-toggleable__label-arrow:before {color: black;}#sk-container-id-1 div.sk-toggleable__content {max-height: 0;max-width: 0;overflow: hidden;text-align: left;background-color: #f0f8ff;}#sk-container-id-1 div.sk-toggleable__content pre {margin: 0.2em;color: black;border-radius: 0.25em;background-color: #f0f8ff;}#sk-container-id-1 input.sk-toggleable__control:checked~div.sk-toggleable__content {max-height: 200px;max-width: 100%;overflow: auto;}#sk-container-id-1 input.sk-toggleable__control:checked~label.sk-toggleable__label-arrow:before {content: \"▾\";}#sk-container-id-1 div.sk-estimator input.sk-toggleable__control:checked~label.sk-toggleable__label {background-color: #d4ebff;}#sk-container-id-1 div.sk-label input.sk-toggleable__control:checked~label.sk-toggleable__label {background-color: #d4ebff;}#sk-container-id-1 input.sk-hidden--visually {border: 0;clip: rect(1px 1px 1px 1px);clip: rect(1px, 1px, 1px, 1px);height: 1px;margin: -1px;overflow: hidden;padding: 0;position: absolute;width: 1px;}#sk-container-id-1 div.sk-estimator {font-family: monospace;background-color: #f0f8ff;border: 1px dotted black;border-radius: 0.25em;box-sizing: border-box;margin-bottom: 0.5em;}#sk-container-id-1 div.sk-estimator:hover {background-color: #d4ebff;}#sk-container-id-1 div.sk-parallel-item::after {content: \"\";width: 100%;border-bottom: 1px solid gray;flex-grow: 1;}#sk-container-id-1 div.sk-label:hover label.sk-toggleable__label {background-color: #d4ebff;}#sk-container-id-1 div.sk-serial::before {content: \"\";position: absolute;border-left: 1px solid gray;box-sizing: border-box;top: 0;bottom: 0;left: 50%;z-index: 0;}#sk-container-id-1 div.sk-serial {display: flex;flex-direction: column;align-items: center;background-color: white;padding-right: 0.2em;padding-left: 0.2em;position: relative;}#sk-container-id-1 div.sk-item {position: relative;z-index: 1;}#sk-container-id-1 div.sk-parallel {display: flex;align-items: stretch;justify-content: center;background-color: white;position: relative;}#sk-container-id-1 div.sk-item::before, #sk-container-id-1 div.sk-parallel-item::before {content: \"\";position: absolute;border-left: 1px solid gray;box-sizing: border-box;top: 0;bottom: 0;left: 50%;z-index: -1;}#sk-container-id-1 div.sk-parallel-item {display: flex;flex-direction: column;z-index: 1;position: relative;background-color: white;}#sk-container-id-1 div.sk-parallel-item:first-child::after {align-self: flex-end;width: 50%;}#sk-container-id-1 div.sk-parallel-item:last-child::after {align-self: flex-start;width: 50%;}#sk-container-id-1 div.sk-parallel-item:only-child::after {width: 0;}#sk-container-id-1 div.sk-dashed-wrapped {border: 1px dashed gray;margin: 0 0.4em 0.5em 0.4em;box-sizing: border-box;padding-bottom: 0.4em;background-color: white;}#sk-container-id-1 div.sk-label label {font-family: monospace;font-weight: bold;display: inline-block;line-height: 1.2em;}#sk-container-id-1 div.sk-label-container {text-align: center;}#sk-container-id-1 div.sk-container {/* jupyter's `normalize.less` sets `[hidden] { display: none; }` but bootstrap.min.css set `[hidden] { display: none !important; }` so we also need the `!important` here to be able to override the default hidden behavior on the sphinx rendered scikit-learn.org. See: https://github.com/scikit-learn/scikit-learn/issues/21755 */display: inline-block !important;position: relative;}#sk-container-id-1 div.sk-text-repr-fallback {display: none;}</style><div id=\"sk-container-id-1\" class=\"sk-top-container\"><div class=\"sk-text-repr-fallback\"><pre>Pipeline(steps=[(&#x27;tfidf&#x27;, TfidfVectorizer()), (&#x27;clf&#x27;, LogisticRegression())])</pre><b>In a Jupyter environment, please rerun this cell to show the HTML representation or trust the notebook. <br />On GitHub, the HTML representation is unable to render, please try loading this page with nbviewer.org.</b></div><div class=\"sk-container\" hidden><div class=\"sk-item sk-dashed-wrapped\"><div class=\"sk-label-container\"><div class=\"sk-label sk-toggleable\"><input class=\"sk-toggleable__control sk-hidden--visually\" id=\"sk-estimator-id-1\" type=\"checkbox\" ><label for=\"sk-estimator-id-1\" class=\"sk-toggleable__label sk-toggleable__label-arrow\">Pipeline</label><div class=\"sk-toggleable__content\"><pre>Pipeline(steps=[(&#x27;tfidf&#x27;, TfidfVectorizer()), (&#x27;clf&#x27;, LogisticRegression())])</pre></div></div></div><div class=\"sk-serial\"><div class=\"sk-item\"><div class=\"sk-estimator sk-toggleable\"><input class=\"sk-toggleable__control sk-hidden--visually\" id=\"sk-estimator-id-2\" type=\"checkbox\" ><label for=\"sk-estimator-id-2\" class=\"sk-toggleable__label sk-toggleable__label-arrow\">TfidfVectorizer</label><div class=\"sk-toggleable__content\"><pre>TfidfVectorizer()</pre></div></div></div><div class=\"sk-item\"><div class=\"sk-estimator sk-toggleable\"><input class=\"sk-toggleable__control sk-hidden--visually\" id=\"sk-estimator-id-3\" type=\"checkbox\" ><label for=\"sk-estimator-id-3\" class=\"sk-toggleable__label sk-toggleable__label-arrow\">LogisticRegression</label><div class=\"sk-toggleable__content\"><pre>LogisticRegression()</pre></div></div></div></div></div></div></div>"
            ]
          },
          "metadata": {},
          "execution_count": 11
        }
      ]
    },
    {
      "cell_type": "code",
      "source": [
        "#случайный текст для теста\n",
        "test_text = \"I miss videos like this where you can tell the band doesn't take themselves seriously and are having fun. The eerie little melody in the back makes me feel nostalgic for something, but I'm not sure what. Then the lyrics caught me by surprise, totally different vibe. My emotions are confused.\""
      ],
      "metadata": {
        "id": "eJXsz8vLsWvF"
      },
      "execution_count": 12,
      "outputs": []
    },
    {
      "cell_type": "code",
      "source": [
        "test_clean = clean_text(test_text)"
      ],
      "metadata": {
        "id": "CdQQYEjssq_E"
      },
      "execution_count": 13,
      "outputs": []
    },
    {
      "cell_type": "code",
      "source": [
        "#модель предсказывает уровень А2\n",
        "pipe.predict([\"miss videos like tell band n't take seriously fun eerie little melody back makes feel nostalgic something sure lyrics caught surprise totally different vibe emotions confused\"])"
      ],
      "metadata": {
        "colab": {
          "base_uri": "https://localhost:8080/"
        },
        "id": "o5MWi0LOtAHC",
        "outputId": "cd833670-8ac7-46fc-d91a-110b4c8ebc96"
      },
      "execution_count": 14,
      "outputs": [
        {
          "output_type": "execute_result",
          "data": {
            "text/plain": [
              "array(['A2'], dtype='<U2')"
            ]
          },
          "metadata": {},
          "execution_count": 14
        }
      ]
    },
    {
      "cell_type": "code",
      "source": [
        "#кросс-валидация\n",
        "clf_for_cross_val = LogisticRegression(multi_class='ovr', class_weight='balanced')"
      ],
      "metadata": {
        "id": "b4zERCXZDK92"
      },
      "execution_count": null,
      "outputs": []
    },
    {
      "cell_type": "code",
      "source": [
        "scoring = {'f1': 'f1_weighted'}"
      ],
      "metadata": {
        "id": "MALLCZSuOFH3"
      },
      "execution_count": null,
      "outputs": []
    },
    {
      "cell_type": "code",
      "source": [
        "cv_results = cross_validate(clf_for_cross_val,\n",
        "                            X_train,\n",
        "                            y_train,\n",
        "                            cv=5,\n",
        "                            scoring=scoring)"
      ],
      "metadata": {
        "id": "JNoqaE7Zt6Bi"
      },
      "execution_count": null,
      "outputs": []
    },
    {
      "cell_type": "code",
      "source": [
        "#все результаты низкие\n",
        "cv_results"
      ],
      "metadata": {
        "colab": {
          "base_uri": "https://localhost:8080/"
        },
        "id": "b1dhXZuLuBaF",
        "outputId": "ac39c8b3-7aef-43b2-9ba7-f96dc270680c"
      },
      "execution_count": null,
      "outputs": [
        {
          "output_type": "execute_result",
          "data": {
            "text/plain": [
              "{'fit_time': array([0.23262763, 0.43662333, 0.24285913, 0.21406364, 0.422158  ]),\n",
              " 'score_time': array([0.00206041, 0.00259709, 0.00227308, 0.00225568, 0.00232077]),\n",
              " 'test_f1': array([0.38357909, 0.36061508, 0.40354437, 0.3747062 , 0.38593074])}"
            ]
          },
          "metadata": {},
          "execution_count": 45
        }
      ]
    },
    {
      "cell_type": "code",
      "source": [
        "#gridsearchcv\n",
        "model = LogisticRegression()\n",
        "\n",
        "cv = RepeatedStratifiedKFold(n_splits=10, n_repeats=3, random_state=1)\n",
        "\n",
        "space = dict()\n",
        "space['solver'] = ['newton-cg', 'lbfgs', 'sag', 'saga']\n",
        "space['penalty'] = ['none', 'l1', 'l2', 'elasticnet']\n",
        "space['C'] = [1e-5, 1e-4, 1e-3, 1e-2, 1e-1, 1, 10, 100]\n",
        "\n",
        "search = GridSearchCV(model, space, scoring='f1_weighted', n_jobs=-1, cv=cv)"
      ],
      "metadata": {
        "id": "5PFjz_7xzoce"
      },
      "execution_count": null,
      "outputs": []
    },
    {
      "cell_type": "code",
      "source": [
        "result = search.fit(X_train, y_train)"
      ],
      "metadata": {
        "colab": {
          "base_uri": "https://localhost:8080/"
        },
        "id": "Q3XS5ky-0KK1",
        "outputId": "00b23306-c821-428e-ff04-ae2558034298",
        "collapsed": true
      },
      "execution_count": null,
      "outputs": [
        {
          "output_type": "stream",
          "name": "stderr",
          "text": [
            "/usr/local/lib/python3.10/dist-packages/sklearn/model_selection/_validation.py:378: FitFailedWarning: \n",
            "1680 fits failed out of a total of 3840.\n",
            "The score on these train-test partitions for these parameters will be set to nan.\n",
            "If these failures are not expected, you can try to debug them by setting error_score='raise'.\n",
            "\n",
            "Below are more details about the failures:\n",
            "--------------------------------------------------------------------------------\n",
            "240 fits failed with the following error:\n",
            "Traceback (most recent call last):\n",
            "  File \"/usr/local/lib/python3.10/dist-packages/sklearn/model_selection/_validation.py\", line 686, in _fit_and_score\n",
            "    estimator.fit(X_train, y_train, **fit_params)\n",
            "  File \"/usr/local/lib/python3.10/dist-packages/sklearn/linear_model/_logistic.py\", line 1162, in fit\n",
            "    solver = _check_solver(self.solver, self.penalty, self.dual)\n",
            "  File \"/usr/local/lib/python3.10/dist-packages/sklearn/linear_model/_logistic.py\", line 54, in _check_solver\n",
            "    raise ValueError(\n",
            "ValueError: Solver newton-cg supports only 'l2' or 'none' penalties, got l1 penalty.\n",
            "\n",
            "--------------------------------------------------------------------------------\n",
            "240 fits failed with the following error:\n",
            "Traceback (most recent call last):\n",
            "  File \"/usr/local/lib/python3.10/dist-packages/sklearn/model_selection/_validation.py\", line 686, in _fit_and_score\n",
            "    estimator.fit(X_train, y_train, **fit_params)\n",
            "  File \"/usr/local/lib/python3.10/dist-packages/sklearn/linear_model/_logistic.py\", line 1162, in fit\n",
            "    solver = _check_solver(self.solver, self.penalty, self.dual)\n",
            "  File \"/usr/local/lib/python3.10/dist-packages/sklearn/linear_model/_logistic.py\", line 54, in _check_solver\n",
            "    raise ValueError(\n",
            "ValueError: Solver lbfgs supports only 'l2' or 'none' penalties, got l1 penalty.\n",
            "\n",
            "--------------------------------------------------------------------------------\n",
            "240 fits failed with the following error:\n",
            "Traceback (most recent call last):\n",
            "  File \"/usr/local/lib/python3.10/dist-packages/sklearn/model_selection/_validation.py\", line 686, in _fit_and_score\n",
            "    estimator.fit(X_train, y_train, **fit_params)\n",
            "  File \"/usr/local/lib/python3.10/dist-packages/sklearn/linear_model/_logistic.py\", line 1162, in fit\n",
            "    solver = _check_solver(self.solver, self.penalty, self.dual)\n",
            "  File \"/usr/local/lib/python3.10/dist-packages/sklearn/linear_model/_logistic.py\", line 54, in _check_solver\n",
            "    raise ValueError(\n",
            "ValueError: Solver sag supports only 'l2' or 'none' penalties, got l1 penalty.\n",
            "\n",
            "--------------------------------------------------------------------------------\n",
            "240 fits failed with the following error:\n",
            "Traceback (most recent call last):\n",
            "  File \"/usr/local/lib/python3.10/dist-packages/sklearn/model_selection/_validation.py\", line 686, in _fit_and_score\n",
            "    estimator.fit(X_train, y_train, **fit_params)\n",
            "  File \"/usr/local/lib/python3.10/dist-packages/sklearn/linear_model/_logistic.py\", line 1162, in fit\n",
            "    solver = _check_solver(self.solver, self.penalty, self.dual)\n",
            "  File \"/usr/local/lib/python3.10/dist-packages/sklearn/linear_model/_logistic.py\", line 54, in _check_solver\n",
            "    raise ValueError(\n",
            "ValueError: Solver newton-cg supports only 'l2' or 'none' penalties, got elasticnet penalty.\n",
            "\n",
            "--------------------------------------------------------------------------------\n",
            "240 fits failed with the following error:\n",
            "Traceback (most recent call last):\n",
            "  File \"/usr/local/lib/python3.10/dist-packages/sklearn/model_selection/_validation.py\", line 686, in _fit_and_score\n",
            "    estimator.fit(X_train, y_train, **fit_params)\n",
            "  File \"/usr/local/lib/python3.10/dist-packages/sklearn/linear_model/_logistic.py\", line 1162, in fit\n",
            "    solver = _check_solver(self.solver, self.penalty, self.dual)\n",
            "  File \"/usr/local/lib/python3.10/dist-packages/sklearn/linear_model/_logistic.py\", line 54, in _check_solver\n",
            "    raise ValueError(\n",
            "ValueError: Solver lbfgs supports only 'l2' or 'none' penalties, got elasticnet penalty.\n",
            "\n",
            "--------------------------------------------------------------------------------\n",
            "240 fits failed with the following error:\n",
            "Traceback (most recent call last):\n",
            "  File \"/usr/local/lib/python3.10/dist-packages/sklearn/model_selection/_validation.py\", line 686, in _fit_and_score\n",
            "    estimator.fit(X_train, y_train, **fit_params)\n",
            "  File \"/usr/local/lib/python3.10/dist-packages/sklearn/linear_model/_logistic.py\", line 1162, in fit\n",
            "    solver = _check_solver(self.solver, self.penalty, self.dual)\n",
            "  File \"/usr/local/lib/python3.10/dist-packages/sklearn/linear_model/_logistic.py\", line 54, in _check_solver\n",
            "    raise ValueError(\n",
            "ValueError: Solver sag supports only 'l2' or 'none' penalties, got elasticnet penalty.\n",
            "\n",
            "--------------------------------------------------------------------------------\n",
            "240 fits failed with the following error:\n",
            "Traceback (most recent call last):\n",
            "  File \"/usr/local/lib/python3.10/dist-packages/sklearn/model_selection/_validation.py\", line 686, in _fit_and_score\n",
            "    estimator.fit(X_train, y_train, **fit_params)\n",
            "  File \"/usr/local/lib/python3.10/dist-packages/sklearn/linear_model/_logistic.py\", line 1291, in fit\n",
            "    fold_coefs_ = Parallel(n_jobs=self.n_jobs, verbose=self.verbose, prefer=prefer)(\n",
            "  File \"/usr/local/lib/python3.10/dist-packages/sklearn/utils/parallel.py\", line 63, in __call__\n",
            "    return super().__call__(iterable_with_config)\n",
            "  File \"/usr/local/lib/python3.10/dist-packages/joblib/parallel.py\", line 1918, in __call__\n",
            "    return output if self.return_generator else list(output)\n",
            "  File \"/usr/local/lib/python3.10/dist-packages/joblib/parallel.py\", line 1847, in _get_sequential_output\n",
            "    res = func(*args, **kwargs)\n",
            "  File \"/usr/local/lib/python3.10/dist-packages/sklearn/utils/parallel.py\", line 123, in __call__\n",
            "    return self.function(*args, **kwargs)\n",
            "  File \"/usr/local/lib/python3.10/dist-packages/sklearn/linear_model/_logistic.py\", line 521, in _logistic_regression_path\n",
            "    alpha = (1.0 / C) * (1 - l1_ratio)\n",
            "TypeError: unsupported operand type(s) for -: 'int' and 'NoneType'\n",
            "\n",
            "  warnings.warn(some_fits_failed_message, FitFailedWarning)\n",
            "/usr/local/lib/python3.10/dist-packages/sklearn/model_selection/_search.py:952: UserWarning: One or more of the test scores are non-finite: [0.37045455 0.27637957 0.38368926 0.38396584        nan        nan\n",
            "        nan 0.05867446 0.07960526 0.07960526 0.07960526 0.07960526\n",
            "        nan        nan        nan        nan 0.37045455 0.27637957\n",
            " 0.38488755 0.38606226        nan        nan        nan 0.05856238\n",
            " 0.07960526 0.07960526 0.07960526 0.07960526        nan        nan\n",
            "        nan        nan 0.37045455 0.27637957 0.37143923 0.37407136\n",
            "        nan        nan        nan 0.05516225 0.07960526 0.07960526\n",
            " 0.07960526 0.07960526        nan        nan        nan        nan\n",
            " 0.37045455 0.27637957 0.38145231 0.38328793        nan        nan\n",
            "        nan 0.0513952  0.07960526 0.07960526 0.07960526 0.07960526\n",
            "        nan        nan        nan        nan 0.37045455 0.27637957\n",
            " 0.38295498 0.3821451         nan        nan        nan 0.0785575\n",
            " 0.07960526 0.07960526 0.07960526 0.07960526        nan        nan\n",
            "        nan        nan 0.37045455 0.27637957 0.39699419 0.38217262\n",
            "        nan        nan        nan 0.07960526 0.12611806 0.12611806\n",
            " 0.12611806 0.12895452        nan        nan        nan        nan\n",
            " 0.37045455 0.27637957 0.38381162 0.38734441        nan        nan\n",
            "        nan 0.26687515 0.32056464 0.32056464 0.32279755 0.33818494\n",
            "        nan        nan        nan        nan 0.37045455 0.27637957\n",
            " 0.37895411 0.37272711        nan        nan        nan 0.32525552\n",
            " 0.3426226  0.3426226  0.37788178 0.38602572        nan        nan\n",
            "        nan        nan]\n",
            "  warnings.warn(\n",
            "/usr/local/lib/python3.10/dist-packages/sklearn/linear_model/_logistic.py:1173: FutureWarning: `penalty='none'`has been deprecated in 1.2 and will be removed in 1.4. To keep the past behaviour, set `penalty=None`.\n",
            "  warnings.warn(\n",
            "/usr/local/lib/python3.10/dist-packages/sklearn/linear_model/_sag.py:350: ConvergenceWarning: The max_iter was reached which means the coef_ did not converge\n",
            "  warnings.warn(\n"
          ]
        }
      ]
    },
    {
      "cell_type": "code",
      "source": [
        "#скор все равно ниже, чем у основной модели, но можно попробовать использовать гиперпараметры\n",
        "print('Best Score: %s' % result.best_score_)\n",
        "print('Best Hyperparameters: %s' % result.best_params_)"
      ],
      "metadata": {
        "colab": {
          "base_uri": "https://localhost:8080/"
        },
        "id": "-exDj4-j2F1H",
        "outputId": "7bb85a00-bd43-416c-8637-1ed7e792dbbc"
      },
      "execution_count": null,
      "outputs": [
        {
          "output_type": "stream",
          "name": "stdout",
          "text": [
            "Best Score: 0.39699418636918643\n",
            "Best Hyperparameters: {'C': 1, 'penalty': 'none', 'solver': 'sag'}\n"
          ]
        }
      ]
    },
    {
      "cell_type": "code",
      "source": [
        "#вторая модель с гиперпараметрами\n",
        "classifier_2 = LogisticRegression(C=1,\n",
        "                                  penalty=None,\n",
        "                                  solver='sag',\n",
        "                                  random_state=42,\n",
        "                                  class_weight='balanced')"
      ],
      "metadata": {
        "id": "YON9xkiB2X7Q"
      },
      "execution_count": null,
      "outputs": []
    },
    {
      "cell_type": "code",
      "source": [
        "classifier_2.fit(X_train, y_train)"
      ],
      "metadata": {
        "colab": {
          "base_uri": "https://localhost:8080/",
          "height": 126
        },
        "id": "u4g9wl4G2_Ld",
        "outputId": "3d15d622-6d9f-456b-a3ab-6bb875069000"
      },
      "execution_count": null,
      "outputs": [
        {
          "output_type": "stream",
          "name": "stderr",
          "text": [
            "/usr/local/lib/python3.10/dist-packages/sklearn/linear_model/_sag.py:350: ConvergenceWarning: The max_iter was reached which means the coef_ did not converge\n",
            "  warnings.warn(\n"
          ]
        },
        {
          "output_type": "execute_result",
          "data": {
            "text/plain": [
              "LogisticRegression(C=1, class_weight='balanced', penalty=None, random_state=42,\n",
              "                   solver='sag')"
            ],
            "text/html": [
              "<style>#sk-container-id-3 {color: black;background-color: white;}#sk-container-id-3 pre{padding: 0;}#sk-container-id-3 div.sk-toggleable {background-color: white;}#sk-container-id-3 label.sk-toggleable__label {cursor: pointer;display: block;width: 100%;margin-bottom: 0;padding: 0.3em;box-sizing: border-box;text-align: center;}#sk-container-id-3 label.sk-toggleable__label-arrow:before {content: \"▸\";float: left;margin-right: 0.25em;color: #696969;}#sk-container-id-3 label.sk-toggleable__label-arrow:hover:before {color: black;}#sk-container-id-3 div.sk-estimator:hover label.sk-toggleable__label-arrow:before {color: black;}#sk-container-id-3 div.sk-toggleable__content {max-height: 0;max-width: 0;overflow: hidden;text-align: left;background-color: #f0f8ff;}#sk-container-id-3 div.sk-toggleable__content pre {margin: 0.2em;color: black;border-radius: 0.25em;background-color: #f0f8ff;}#sk-container-id-3 input.sk-toggleable__control:checked~div.sk-toggleable__content {max-height: 200px;max-width: 100%;overflow: auto;}#sk-container-id-3 input.sk-toggleable__control:checked~label.sk-toggleable__label-arrow:before {content: \"▾\";}#sk-container-id-3 div.sk-estimator input.sk-toggleable__control:checked~label.sk-toggleable__label {background-color: #d4ebff;}#sk-container-id-3 div.sk-label input.sk-toggleable__control:checked~label.sk-toggleable__label {background-color: #d4ebff;}#sk-container-id-3 input.sk-hidden--visually {border: 0;clip: rect(1px 1px 1px 1px);clip: rect(1px, 1px, 1px, 1px);height: 1px;margin: -1px;overflow: hidden;padding: 0;position: absolute;width: 1px;}#sk-container-id-3 div.sk-estimator {font-family: monospace;background-color: #f0f8ff;border: 1px dotted black;border-radius: 0.25em;box-sizing: border-box;margin-bottom: 0.5em;}#sk-container-id-3 div.sk-estimator:hover {background-color: #d4ebff;}#sk-container-id-3 div.sk-parallel-item::after {content: \"\";width: 100%;border-bottom: 1px solid gray;flex-grow: 1;}#sk-container-id-3 div.sk-label:hover label.sk-toggleable__label {background-color: #d4ebff;}#sk-container-id-3 div.sk-serial::before {content: \"\";position: absolute;border-left: 1px solid gray;box-sizing: border-box;top: 0;bottom: 0;left: 50%;z-index: 0;}#sk-container-id-3 div.sk-serial {display: flex;flex-direction: column;align-items: center;background-color: white;padding-right: 0.2em;padding-left: 0.2em;position: relative;}#sk-container-id-3 div.sk-item {position: relative;z-index: 1;}#sk-container-id-3 div.sk-parallel {display: flex;align-items: stretch;justify-content: center;background-color: white;position: relative;}#sk-container-id-3 div.sk-item::before, #sk-container-id-3 div.sk-parallel-item::before {content: \"\";position: absolute;border-left: 1px solid gray;box-sizing: border-box;top: 0;bottom: 0;left: 50%;z-index: -1;}#sk-container-id-3 div.sk-parallel-item {display: flex;flex-direction: column;z-index: 1;position: relative;background-color: white;}#sk-container-id-3 div.sk-parallel-item:first-child::after {align-self: flex-end;width: 50%;}#sk-container-id-3 div.sk-parallel-item:last-child::after {align-self: flex-start;width: 50%;}#sk-container-id-3 div.sk-parallel-item:only-child::after {width: 0;}#sk-container-id-3 div.sk-dashed-wrapped {border: 1px dashed gray;margin: 0 0.4em 0.5em 0.4em;box-sizing: border-box;padding-bottom: 0.4em;background-color: white;}#sk-container-id-3 div.sk-label label {font-family: monospace;font-weight: bold;display: inline-block;line-height: 1.2em;}#sk-container-id-3 div.sk-label-container {text-align: center;}#sk-container-id-3 div.sk-container {/* jupyter's `normalize.less` sets `[hidden] { display: none; }` but bootstrap.min.css set `[hidden] { display: none !important; }` so we also need the `!important` here to be able to override the default hidden behavior on the sphinx rendered scikit-learn.org. See: https://github.com/scikit-learn/scikit-learn/issues/21755 */display: inline-block !important;position: relative;}#sk-container-id-3 div.sk-text-repr-fallback {display: none;}</style><div id=\"sk-container-id-3\" class=\"sk-top-container\"><div class=\"sk-text-repr-fallback\"><pre>LogisticRegression(C=1, class_weight=&#x27;balanced&#x27;, penalty=None, random_state=42,\n",
              "                   solver=&#x27;sag&#x27;)</pre><b>In a Jupyter environment, please rerun this cell to show the HTML representation or trust the notebook. <br />On GitHub, the HTML representation is unable to render, please try loading this page with nbviewer.org.</b></div><div class=\"sk-container\" hidden><div class=\"sk-item\"><div class=\"sk-estimator sk-toggleable\"><input class=\"sk-toggleable__control sk-hidden--visually\" id=\"sk-estimator-id-5\" type=\"checkbox\" checked><label for=\"sk-estimator-id-5\" class=\"sk-toggleable__label sk-toggleable__label-arrow\">LogisticRegression</label><div class=\"sk-toggleable__content\"><pre>LogisticRegression(C=1, class_weight=&#x27;balanced&#x27;, penalty=None, random_state=42,\n",
              "                   solver=&#x27;sag&#x27;)</pre></div></div></div></div></div>"
            ]
          },
          "metadata": {},
          "execution_count": 59
        }
      ]
    },
    {
      "cell_type": "code",
      "source": [
        "y_preds_2 = classifier_2.predict(X_test)"
      ],
      "metadata": {
        "id": "Ifw3ZOzk3MOw"
      },
      "execution_count": null,
      "outputs": []
    },
    {
      "cell_type": "code",
      "source": [
        "#даже с гиперпараметрами результаты все равно ниже, чем у первой модели\n",
        "print(classification_report(y_test, y_preds_2, target_names=le.classes_))"
      ],
      "metadata": {
        "id": "rHOYtzc13Xjl",
        "outputId": "277566aa-b82e-48c6-f42c-51fee333675e",
        "colab": {
          "base_uri": "https://localhost:8080/"
        }
      },
      "execution_count": null,
      "outputs": [
        {
          "output_type": "stream",
          "name": "stdout",
          "text": [
            "              precision    recall  f1-score   support\n",
            "\n",
            "          A0       0.33      0.50      0.40         2\n",
            "          A1       0.50      0.67      0.57         6\n",
            "          A2       0.60      0.67      0.63         9\n",
            "          B1       0.40      0.29      0.33         7\n",
            "          B2       0.38      0.50      0.43         6\n",
            "          C1       1.00      0.67      0.80         6\n",
            "          C2       1.00      0.50      0.67         4\n",
            "\n",
            "    accuracy                           0.55        40\n",
            "   macro avg       0.60      0.54      0.55        40\n",
            "weighted avg       0.60      0.55      0.56        40\n",
            "\n"
          ]
        }
      ]
    },
    {
      "cell_type": "code",
      "source": [
        "#визуализация\n",
        "X_embedded = TSNE(n_components=2, init='random', perplexity=3).fit_transform(X_vec)"
      ],
      "metadata": {
        "id": "i_63IF9zxw5y"
      },
      "execution_count": null,
      "outputs": []
    },
    {
      "cell_type": "code",
      "source": [
        "fig, ax = plt.subplots(figsize=(10,10))\n",
        "\n",
        "scatter = ax.scatter(X_embedded[:,0], X_embedded[:,1], c=y_enc)\n",
        "\n",
        "plt.title(\"Educational texts in English Dataset visualization\")\n",
        "\n",
        "mylabels = [\"A0\", \"A1\", \"A2\", \"B1\", \"B2\", \"C1\", \"C2\"]\n",
        "legend = ax.legend(*scatter.legend_elements(),\n",
        "                    loc=\"lower left\", title=\"CEFR Levels\")\n",
        "for i in range(0,7):\n",
        "  legend.get_texts()[i].set_text(mylabels[i])\n",
        "\n",
        "ax.add_artist(legend)\n",
        "\n",
        "\n",
        "\n",
        "plt.show()"
      ],
      "metadata": {
        "colab": {
          "base_uri": "https://localhost:8080/",
          "height": 853
        },
        "id": "jJQBrIYbx-Fk",
        "outputId": "fab4ac02-31e2-40b3-9f59-2c830be6ee2c"
      },
      "execution_count": null,
      "outputs": [
        {
          "output_type": "display_data",
          "data": {
            "text/plain": [
              "<Figure size 1000x1000 with 1 Axes>"
            ],
            "image/png": "[encoded data removed]"
          },
          "metadata": {}
        }
      ]
    }
  ]
}