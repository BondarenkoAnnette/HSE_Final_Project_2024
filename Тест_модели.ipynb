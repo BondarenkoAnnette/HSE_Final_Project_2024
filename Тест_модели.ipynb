{
  "nbformat": 4,
  "nbformat_minor": 0,
  "metadata": {
    "colab": {
      "provenance": []
    },
    "kernelspec": {
      "name": "python3",
      "display_name": "Python 3"
    },
    "language_info": {
      "name": "python"
    }
  },
  "cells": [
    {
      "cell_type": "code",
      "source": [
        "#импорты\n",
        "import nltk\n",
        "from nltk.tokenize import word_tokenize\n",
        "from nltk import download\n",
        "download('stopwords')\n",
        "from nltk.corpus import stopwords\n",
        "stop_words = stopwords.words('english')\n",
        "nltk.download('punkt')\n",
        "nltk.download('wordnet')\n",
        "from nltk.stem import WordNetLemmatizer\n",
        "lemmatizer = WordNetLemmatizer()\n",
        "import pickle"
      ],
      "metadata": {
        "colab": {
          "base_uri": "https://localhost:8080/"
        },
        "id": "Vxs2edmzxXbm",
        "outputId": "eb989197-5dfe-4671-8a15-926460a6ff64"
      },
      "execution_count": 1,
      "outputs": [
        {
          "output_type": "stream",
          "name": "stderr",
          "text": [
            "[nltk_data] Downloading package stopwords to /root/nltk_data...\n",
            "[nltk_data]   Unzipping corpora/stopwords.zip.\n",
            "[nltk_data] Downloading package punkt to /root/nltk_data...\n",
            "[nltk_data]   Unzipping tokenizers/punkt.zip.\n",
            "[nltk_data] Downloading package wordnet to /root/nltk_data...\n"
          ]
        }
      ]
    },
    {
      "cell_type": "code",
      "source": [
        "#предобработка\n",
        "def preprocess(input):\n",
        "  text_str = input.lower()\n",
        "  text_list_nltk = word_tokenize(text_str)\n",
        "  text_clean = ' '.join([word for word in text_list_nltk if word not in stop_words and word[0].isalpha()])\n",
        "  return text_clean"
      ],
      "metadata": {
        "id": "0J4USVNLxUui"
      },
      "execution_count": 2,
      "outputs": []
    },
    {
      "cell_type": "code",
      "source": [
        "#загрузка модели и классификатора\n",
        "loaded_model = pickle.load(open('/content/drive/MyDrive/level_classifier.sav', 'rb'))\n",
        "loaded_tfidf = pickle.load(open('/content/drive/MyDrive/tfidf.pickle', 'rb'))"
      ],
      "metadata": {
        "id": "0aobHJ6Toi5i"
      },
      "execution_count": 3,
      "outputs": []
    },
    {
      "cell_type": "code",
      "source": [
        "#загружаем новый текст для оценки через инпут\n",
        "new_text = input()"
      ],
      "metadata": {
        "colab": {
          "base_uri": "https://localhost:8080/"
        },
        "id": "0JJiAeUuQW5A",
        "outputId": "f3e1729b-7f62-42bb-f2bd-2db7c66620a7"
      },
      "execution_count": 22,
      "outputs": [
        {
          "name": "stdout",
          "output_type": "stream",
          "text": [
            "I am interested in this job because I am currently looking for an opportunity to use the skills I learnt in my college. I have recently completed a 16-week part-time accounting course (AAT Level 2 Certificate).  The course covered book-keeping, recording income and receipts and basic costing. We used a wide range of computer packages, and I picked up the accounting skills easily. I was able to work alone with very little extra help. I passed the course with merit. I believe my success was due to my thorough work, my numeracy skills and my attention to detail. During the course, I had experience of working to deadlines and working under pressure.  Although this was sometimes stressful, I always completed my work on time.  Unfortunately, the course did not include a work placement, so I have not practised my skills in a business setting, and I am now looking for an opportunity to do so.  I am particularly looking for a job in a small company such as yours, as I believe I will be able to interact with a wider range of people, and as a result, learn more skills.  I would like to progress within a company and gain more responsibilities over the years.  Although I do not have work experience in finance, I have experience in working in an office environment.  Before starting the accounting course, I worked for 6 months in a recruitment office as a receptionist. My duties involved meeting and greeting clients and visitors, taking phone calls, audio and copy typing and checking stock. I also had to keep the petty cash and mail records.  Through this work, I developed my verbal and written communication skills. I had to speak confidently to strangers and deliver clear messages.  I enjoyed working in a team environment.  I believe the office appreciated my friendly manner and efficient work.\n"
          ]
        }
      ]
    },
    {
      "cell_type": "code",
      "source": [
        "new_text_clean = preprocess(new_text)\n",
        "new_text_vec = loaded_tfidf.transform([new_text_clean])\n",
        "new_text_vec.shape"
      ],
      "metadata": {
        "colab": {
          "base_uri": "https://localhost:8080/"
        },
        "id": "9fMMpcw_POWU",
        "outputId": "12a05fb3-37bc-42b9-f9ff-f49dc85ff21c"
      },
      "execution_count": 23,
      "outputs": [
        {
          "output_type": "execute_result",
          "data": {
            "text/plain": [
              "(1, 9179)"
            ]
          },
          "metadata": {},
          "execution_count": 23
        }
      ]
    },
    {
      "cell_type": "code",
      "source": [
        "new_pred = int(loaded_model.predict(new_text_vec))"
      ],
      "metadata": {
        "colab": {
          "base_uri": "https://localhost:8080/"
        },
        "id": "3Hl3AOl_4WBE",
        "outputId": "a864b6eb-6545-43c0-9391-eff6c088ae4b"
      },
      "execution_count": 24,
      "outputs": [
        {
          "output_type": "stream",
          "name": "stderr",
          "text": [
            "<ipython-input-24-a2a18a07de01>:1: DeprecationWarning: Conversion of an array with ndim > 0 to a scalar is deprecated, and will error in future. Ensure you extract a single element from your array before performing this operation. (Deprecated NumPy 1.25.)\n",
            "  new_pred = int(loaded_model.predict(new_text_vec))\n"
          ]
        }
      ]
    },
    {
      "cell_type": "code",
      "source": [
        "classes = list(range(0,7))\n",
        "class_names = ['A0', 'A1', 'A2', 'B1', 'B2', 'C1', 'C2']\n",
        "classes_and_names = dict(zip(classes, class_names))"
      ],
      "metadata": {
        "id": "f8RaG_ydPZaP"
      },
      "execution_count": 4,
      "outputs": []
    },
    {
      "cell_type": "code",
      "source": [
        "print(\"Predicted text level is:\", classes_and_names[new_pred])"
      ],
      "metadata": {
        "colab": {
          "base_uri": "https://localhost:8080/"
        },
        "id": "r_YolhXyP1EJ",
        "outputId": "bb2e5dd8-0e43-4fce-c763-4b2e72fe09b0"
      },
      "execution_count": 25,
      "outputs": [
        {
          "output_type": "stream",
          "name": "stdout",
          "text": [
            "Predicted text level is: B2\n"
          ]
        }
      ]
    }
  ]
}